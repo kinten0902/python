{
 "cells": [
  {
   "cell_type": "code",
   "execution_count": 18,
   "metadata": {},
   "outputs": [],
   "source": [
    "import tensorflow as tf\n",
    "import numpy as np\n",
    "import time"
   ]
  },
  {
   "cell_type": "code",
   "execution_count": 20,
   "metadata": {},
   "outputs": [
    {
     "name": "stdout",
     "output_type": "stream",
     "text": [
      "[[1. 2. 3.]\n",
      " [4. 5. 6.]\n",
      " [7. 8. 9.]]\n"
     ]
    }
   ],
   "source": [
    "x = tf.constant([1., 2., 3., 4., 5., 6., 7., 8., 9.], shape=[3, 3])\n",
    "y = x  # この行を置き換えて確認します。\n",
    "\n",
    "with tf.Session() as sess:\n",
    "    print(sess.run(y))"
   ]
  },
  {
   "cell_type": "markdown",
   "metadata": {},
   "source": [
    "# 1.自然対数 \n",
    "$$\n",
    "y = \\log_{e} x\n",
    "$$"
   ]
  },
  {
   "cell_type": "code",
   "execution_count": 21,
   "metadata": {},
   "outputs": [
    {
     "name": "stdout",
     "output_type": "stream",
     "text": [
      "[[0.        0.6931472 1.0986123]\n",
      " [1.3862944 1.609438  1.7917595]\n",
      " [1.9459102 2.0794415 2.1972246]]\n"
     ]
    }
   ],
   "source": [
    "x = tf.constant([1., 2., 3., 4., 5., 6., 7., 8., 9.], shape=[3, 3])\n",
    "y = tf.log(x)\n",
    "\n",
    "with tf.Session() as sess:\n",
    "    print(sess.run(y))"
   ]
  },
  {
   "cell_type": "markdown",
   "metadata": {},
   "source": [
    "# 2.総和\n",
    "### $i$(1次元目)で足し合わせ\n",
    "$$\n",
    "y = \\sum_{i=1}^{m}x_{ij}\n",
    "$$"
   ]
  },
  {
   "cell_type": "code",
   "execution_count": 22,
   "metadata": {},
   "outputs": [
    {
     "name": "stdout",
     "output_type": "stream",
     "text": [
      "[12. 15. 18.]\n"
     ]
    }
   ],
   "source": [
    "x = tf.constant([1., 2., 3., 4., 5., 6., 7., 8., 9.], shape=[3, 3])\n",
    "# y = tf.reduce_sum(x,0)\n",
    "y = tf.reduce_sum(x,reduction_indices=[0])\n",
    "\n",
    "with tf.Session() as sess:\n",
    "    print(sess.run(y))"
   ]
  },
  {
   "cell_type": "markdown",
   "metadata": {},
   "source": [
    "### $j$(2次元目)で足し合わせ\n",
    "$$\n",
    "y = \\sum_{j=1}^{n}x_{ij}\n",
    "$$"
   ]
  },
  {
   "cell_type": "code",
   "execution_count": 23,
   "metadata": {},
   "outputs": [
    {
     "name": "stdout",
     "output_type": "stream",
     "text": [
      "[ 6. 15. 24.]\n"
     ]
    }
   ],
   "source": [
    "x = tf.constant([1., 2., 3., 4., 5., 6., 7., 8., 9.], shape=[3, 3])\n",
    "# y = tf.reduce_sum(x,1)\n",
    "y = tf.reduce_sum(x,reduction_indices=[1])\n",
    "\n",
    "with tf.Session() as sess:\n",
    "    print(sess.run(y))"
   ]
  },
  {
   "cell_type": "markdown",
   "metadata": {},
   "source": [
    "### すべての次元で足し合わせ\n",
    "$$\n",
    "y = \\sum_{i=1}^{m}\\sum_{j=1}^{n}x_{ij}\n",
    "$$"
   ]
  },
  {
   "cell_type": "code",
   "execution_count": 24,
   "metadata": {},
   "outputs": [
    {
     "name": "stdout",
     "output_type": "stream",
     "text": [
      "45.0\n"
     ]
    }
   ],
   "source": [
    "x = tf.constant([1., 2., 3., 4., 5., 6., 7., 8., 9.], shape=[3, 3])\n",
    "y = tf.reduce_sum(x)\n",
    "with tf.Session() as sess:\n",
    "    print(sess.run(y))"
   ]
  },
  {
   "cell_type": "markdown",
   "metadata": {},
   "source": [
    "# 3.平均\n",
    "### $i$(1次元目)の平均\n",
    "$$\n",
    "y = \\frac{1}{m}\\sum_{i=1}^{m}x_{ij}\n",
    "$$"
   ]
  },
  {
   "cell_type": "code",
   "execution_count": 25,
   "metadata": {},
   "outputs": [
    {
     "name": "stdout",
     "output_type": "stream",
     "text": [
      "[4. 5. 6.]\n"
     ]
    }
   ],
   "source": [
    "x = tf.constant([1., 2., 3., 4., 5., 6., 7., 8., 9.], shape=[3, 3])\n",
    "# y = tf.reduce_mean(x,0)\n",
    "y = tf.reduce_mean(x,reduction_indices=[0])\n",
    "with tf.Session() as sess:\n",
    "    print(sess.run(y))"
   ]
  },
  {
   "cell_type": "markdown",
   "metadata": {},
   "source": [
    "### $j$(2次元目)の平均\n",
    "$$\n",
    "y = \\frac{1}{n}\\sum_{j=1}^{n}x_{ij}\n",
    "$$"
   ]
  },
  {
   "cell_type": "code",
   "execution_count": 26,
   "metadata": {},
   "outputs": [
    {
     "name": "stdout",
     "output_type": "stream",
     "text": [
      "[2. 5. 8.]\n"
     ]
    }
   ],
   "source": [
    "x = tf.constant([1., 2., 3., 4., 5., 6., 7., 8., 9.], shape=[3, 3])\n",
    "# y = tf.reduce_mean(x,1)\n",
    "y = tf.reduce_mean(x,reduction_indices=[1])\n",
    "with tf.Session() as sess:\n",
    "    print(sess.run(y))"
   ]
  },
  {
   "cell_type": "markdown",
   "metadata": {},
   "source": [
    "### すべての次元の平均\n",
    "$$\n",
    "y = \\frac{1}{mn}\\sum_{i=1}^{m}\\sum_{j=1}^{n}x_{ij}\n",
    "$$"
   ]
  },
  {
   "cell_type": "code",
   "execution_count": 27,
   "metadata": {},
   "outputs": [
    {
     "name": "stdout",
     "output_type": "stream",
     "text": [
      "5.0\n"
     ]
    }
   ],
   "source": [
    "x = tf.constant([1., 2., 3., 4., 5., 6., 7., 8., 9.], shape=[3, 3])\n",
    "y = tf.reduce_mean(x)\n",
    "with tf.Session() as sess:\n",
    "    print(sess.run(y))"
   ]
  },
  {
   "cell_type": "markdown",
   "metadata": {},
   "source": [
    "## Session.run 和 Tensor.eval的区别"
   ]
  },
  {
   "cell_type": "code",
   "execution_count": 3,
   "metadata": {},
   "outputs": [],
   "source": [
    "# 如果你有一个 Tensor t，在使用 t.eval() 时，它等价于 tf.get_default_session().run(t)\n",
    "\n",
    "t = tf.constant(42.0)\n",
    "sess = tf.Session()\n",
    "with sess.as_default():   # or `with sess:` to close on exit\n",
    "    assert sess is tf.get_default_session()\n",
    "    assert t.eval() == sess.run(t)"
   ]
  },
  {
   "cell_type": "code",
   "execution_count": 6,
   "metadata": {},
   "outputs": [],
   "source": [
    "# 区别在于，使用 sess.run() 在同一步获取多个tensor中的值\n",
    "\n",
    "t = tf.constant(42.0)\n",
    "u = tf.constant(37.0)\n",
    "tu = tf.multiply(t, u)\n",
    "ut = tf.multiply(u, t)\n",
    "with sess.as_default():\n",
    "   tu.eval()  # runs one step\n",
    "   ut.eval()  # runs one step\n",
    "   sess.run([tu, ut])  # evaluates both tensors in a single step"
   ]
  },
  {
   "cell_type": "code",
   "execution_count": 20,
   "metadata": {},
   "outputs": [
    {
     "name": "stdout",
     "output_type": "stream",
     "text": [
      "使用sess.run() 读取变量数据耗时 0.101273059845\n",
      "直接赋值耗时 0.000187873840332\n"
     ]
    }
   ],
   "source": [
    "# 使用 tf.Session().run() 读取变量的值十分耗时\n",
    "\n",
    "N = 1000\n",
    "x = tf.constant([1.])\n",
    "b = 1.\n",
    "\n",
    "with tf.Session() as sess:\n",
    "    sess.run(tf.global_variables_initializer()) \n",
    "\n",
    "    t1 = time.time()\n",
    "    for _ in range(N):\n",
    "        y = sess.run(x)\n",
    "    print '使用sess.run() 读取变量数据耗时', time.time()-t1\n",
    "\n",
    "    t2 = time.time()\n",
    "    for _ in range(N):\n",
    "        a = b\n",
    "    print '直接赋值耗时', time.time()-t2"
   ]
  },
  {
   "cell_type": "code",
   "execution_count": null,
   "metadata": {},
   "outputs": [],
   "source": []
  },
  {
   "cell_type": "code",
   "execution_count": null,
   "metadata": {},
   "outputs": [],
   "source": []
  },
  {
   "cell_type": "code",
   "execution_count": null,
   "metadata": {},
   "outputs": [],
   "source": []
  },
  {
   "cell_type": "code",
   "execution_count": null,
   "metadata": {},
   "outputs": [],
   "source": []
  }
 ],
 "metadata": {
  "kernelspec": {
   "display_name": "Python 2",
   "language": "python",
   "name": "python2"
  },
  "language_info": {
   "codemirror_mode": {
    "name": "ipython",
    "version": 2
   },
   "file_extension": ".py",
   "mimetype": "text/x-python",
   "name": "python",
   "nbconvert_exporter": "python",
   "pygments_lexer": "ipython2",
   "version": "2.7.14"
  }
 },
 "nbformat": 4,
 "nbformat_minor": 2
}
