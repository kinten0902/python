{
 "cells": [
  {
   "cell_type": "markdown",
   "metadata": {},
   "source": [
    "# RNN\n",
    "## Recurrent Neural Network　再帰型ニューラルネットワーク\n",
    "\n"
   ]
  },
  {
   "cell_type": "code",
   "execution_count": 1,
   "metadata": {},
   "outputs": [
    {
     "name": "stdout",
     "output_type": "stream",
     "text": [
      "Extracting MNIST_data/train-images-idx3-ubyte.gz\n",
      "Extracting MNIST_data/train-labels-idx1-ubyte.gz\n",
      "Extracting MNIST_data/t10k-images-idx3-ubyte.gz\n",
      "Extracting MNIST_data/t10k-labels-idx1-ubyte.gz\n"
     ]
    }
   ],
   "source": [
    "import tensorflow as tf\n",
    "import input_data\n",
    "import numpy as np\n",
    "import time\n",
    "mnist = input_data.read_data_sets(\"MNIST_data/\", one_hot=True)\n",
    "np.set_printoptions(suppress=True)"
   ]
  },
  {
   "cell_type": "code",
   "execution_count": 2,
   "metadata": {},
   "outputs": [
    {
     "name": "stdout",
     "output_type": "stream",
     "text": [
      "550\n"
     ]
    }
   ],
   "source": [
    "# Network Parameters\n",
    "\n",
    "n_classes = 10\n",
    "n_hidden = 128\n",
    "sequence_size = 28\n",
    "frame_size = 28\n",
    "train_dropout = 0.8\n",
    "test_dropout = 1.0\n",
    "\n",
    "# Training Parameters\n",
    "learning_rate = 0.001\n",
    "batch_size = 100\n",
    "total_batch = int(mnist.train.num_examples / batch_size)\n",
    "print(total_batch)\n",
    "training_epochs = 30\n",
    "\n",
    "# tf Graph input\n",
    "X = tf.placeholder(tf.float32, [None, sequence_size * frame_size])\n",
    "Y = tf.placeholder(tf.float32, [None, n_classes])\n",
    "keep_prob = tf.placeholder(tf.float32)\n",
    "\n",
    "# Store layers weight & bias\n",
    "weights = {'out': tf.Variable(tf.random_normal([n_hidden, n_classes]))}\n",
    "biases = {'out': tf.Variable(tf.random_normal([n_classes]))}"
   ]
  },
  {
   "cell_type": "code",
   "execution_count": 3,
   "metadata": {},
   "outputs": [],
   "source": [
    "# Create model\n",
    "\n",
    "\n",
    "def RNN(x, weights, biases, dropout):\n",
    "\n",
    "    x = tf.reshape(x, shape=[-1, sequence_size, frame_size])\n",
    "\n",
    "    #     cell = tf.contrib.rnn.BasicRNNCell(n_hidden)\n",
    "    #     cell = tf.contrib.rnn.GRUCell(n_hidden)\n",
    "    cell = tf.contrib.rnn.BasicLSTMCell(n_hidden)\n",
    "\n",
    "    cell = tf.contrib.rnn.DropoutWrapper(cell, dropout)\n",
    "\n",
    "    outputs, states = tf.nn.dynamic_rnn(cell, x, dtype=tf.float32)\n",
    "\n",
    "    out = tf.add(tf.matmul(outputs[:, -1, :], weights['out']), biases['out'])\n",
    "    return out"
   ]
  },
  {
   "cell_type": "code",
   "execution_count": 4,
   "metadata": {},
   "outputs": [],
   "source": [
    "# Construct model\n",
    "y_pred = RNN(X, weights, biases, keep_prob)\n",
    "y_softmax = tf.nn.softmax(y_pred)\n",
    "\n",
    "# Define loss and optimizer\n",
    "# type 1:\n",
    "# loss = tf.reduce_mean(\n",
    "#     -tf.reduce_sum(Y * tf.log(y_softmax), reduction_indices=[1]))\n",
    "# type 2:\n",
    "loss = tf.reduce_mean(\n",
    "    tf.nn.softmax_cross_entropy_with_logits(labels=Y, logits=y_pred))\n",
    "# type 3:\n",
    "# loss = tf.reduce_mean(\n",
    "#     tf.nn.softmax_cross_entropy_with_logits_v2(labels=Y, logits=y_pred))\n",
    "optimizer = tf.train.AdamOptimizer(learning_rate).minimize(loss)\n",
    "\n",
    "# Evaluate model\n",
    "pred = tf.argmax(y_pred, 1)\n",
    "true = tf.argmax(Y, 1)\n",
    "correct_prediction = tf.equal(pred, true)\n",
    "accuracy = tf.reduce_mean(tf.cast(correct_prediction, tf.float32))"
   ]
  },
  {
   "cell_type": "code",
   "execution_count": 5,
   "metadata": {},
   "outputs": [
    {
     "name": "stdout",
     "output_type": "stream",
     "text": [
      "Epoch: 1 Batch: 550 train_acc=0.930 test_acc=0.954 train_cost=0.481\n",
      "Epoch: 2 Batch: 550 train_acc=0.970 test_acc=0.966 train_cost=0.152\n",
      "Epoch: 3 Batch: 550 train_acc=0.970 test_acc=0.968 train_cost=0.106\n",
      "Epoch: 4 Batch: 550 train_acc=0.980 test_acc=0.983 train_cost=0.081\n",
      "Epoch: 5 Batch: 550 train_acc=0.980 test_acc=0.979 train_cost=0.071\n",
      "Epoch: 6 Batch: 550 train_acc=0.980 test_acc=0.982 train_cost=0.059\n",
      "Epoch: 7 Batch: 550 train_acc=0.970 test_acc=0.984 train_cost=0.056\n",
      "Epoch: 8 Batch: 550 train_acc=0.970 test_acc=0.985 train_cost=0.050\n",
      "Epoch: 9 Batch: 550 train_acc=1.000 test_acc=0.987 train_cost=0.047\n",
      "Epoch:10 Batch: 550 train_acc=0.970 test_acc=0.986 train_cost=0.042\n",
      "Epoch:11 Batch: 550 train_acc=1.000 test_acc=0.985 train_cost=0.040\n",
      "Epoch:12 Batch: 550 train_acc=1.000 test_acc=0.989 train_cost=0.035\n",
      "Epoch:13 Batch: 550 train_acc=0.980 test_acc=0.988 train_cost=0.032\n",
      "Epoch:14 Batch: 550 train_acc=0.980 test_acc=0.988 train_cost=0.032\n",
      "Epoch:15 Batch: 550 train_acc=0.980 test_acc=0.989 train_cost=0.030\n",
      "Epoch:16 Batch: 550 train_acc=0.990 test_acc=0.988 train_cost=0.028\n",
      "Epoch:17 Batch: 550 train_acc=1.000 test_acc=0.989 train_cost=0.030\n",
      "Epoch:18 Batch: 550 train_acc=0.990 test_acc=0.990 train_cost=0.025\n",
      "Epoch:19 Batch: 550 train_acc=1.000 test_acc=0.989 train_cost=0.026\n",
      "Epoch:20 Batch: 550 train_acc=1.000 test_acc=0.989 train_cost=0.025\n",
      "Epoch:21 Batch: 550 train_acc=1.000 test_acc=0.988 train_cost=0.023\n",
      "Epoch:22 Batch: 550 train_acc=0.990 test_acc=0.989 train_cost=0.022\n",
      "Epoch:23 Batch: 550 train_acc=1.000 test_acc=0.990 train_cost=0.021\n",
      "Epoch:24 Batch: 550 train_acc=0.970 test_acc=0.989 train_cost=0.020\n",
      "Epoch:25 Batch: 550 train_acc=0.990 test_acc=0.988 train_cost=0.019\n",
      "Epoch:26 Batch: 550 train_acc=0.980 test_acc=0.990 train_cost=0.018\n",
      "Epoch:27 Batch: 550 train_acc=0.990 test_acc=0.988 train_cost=0.017\n",
      "Epoch:28 Batch: 550 train_acc=0.990 test_acc=0.991 train_cost=0.017\n",
      "Epoch:29 Batch: 550 train_acc=0.990 test_acc=0.989 train_cost=0.017\n",
      "Epoch:30 Batch: 550 train_acc=1.000 test_acc=0.990 train_cost=0.016\n",
      "Process Time :148.01 s\n",
      "test accuracy=0.990\n"
     ]
    }
   ],
   "source": [
    "sess = tf.InteractiveSession()\n",
    "tf.global_variables_initializer().run()\n",
    "\n",
    "# Training cycle\n",
    "all_x_test = mnist.test.images\n",
    "all_y_test = mnist.test.labels\n",
    "start = time.time()\n",
    "for epoch_i in range(training_epochs):\n",
    "    ave_cost = 0\n",
    "    for batch_i in range(total_batch):\n",
    "        batch_x, batch_y = mnist.train.next_batch(batch_size)\n",
    "        _, c = sess.run(\n",
    "            [optimizer, loss],\n",
    "            feed_dict={\n",
    "                X: batch_x,\n",
    "                Y: batch_y,\n",
    "                keep_prob: train_dropout\n",
    "            })\n",
    "        ave_cost += c / total_batch\n",
    "    # Display logs per epoch step\n",
    "    if epoch_i % 1 == 0:\n",
    "        train_acc = sess.run(accuracy,feed_dict={\n",
    "            X: batch_x,\n",
    "            Y: batch_y,\n",
    "            keep_prob: train_dropout\n",
    "        })\n",
    "        test_acc = sess.run(accuracy,feed_dict={\n",
    "            X: all_x_test,\n",
    "            Y: all_y_test,\n",
    "            keep_prob: test_dropout\n",
    "        })\n",
    "        print(\"Epoch:%2d Batch:%4d\" % (epoch_i + 1, batch_i + 1),\n",
    "              \"train_acc=%.3f\" % train_acc, \"test_acc=%.3f\" % test_acc,\n",
    "              \"train_cost=%5.3f\" % ave_cost)\n",
    "end = time.time()\n",
    "print(\"Process Time :%.2f s\" % (end - start))\n",
    "\n",
    "# Calculate accuracy\n",
    "acc = sess.run(\n",
    "    accuracy,\n",
    "    feed_dict={\n",
    "        X: all_x_test,\n",
    "        Y: all_y_test,\n",
    "        keep_prob: test_dropout\n",
    "    })\n",
    "print(\"test accuracy=%.3f\" % acc)\n",
    "sess.close()"
   ]
  },
  {
   "cell_type": "code",
   "execution_count": null,
   "metadata": {},
   "outputs": [],
   "source": []
  },
  {
   "cell_type": "code",
   "execution_count": null,
   "metadata": {},
   "outputs": [],
   "source": []
  },
  {
   "cell_type": "code",
   "execution_count": null,
   "metadata": {},
   "outputs": [],
   "source": []
  },
  {
   "cell_type": "code",
   "execution_count": null,
   "metadata": {},
   "outputs": [],
   "source": []
  }
 ],
 "metadata": {
  "kernelspec": {
   "display_name": "python3",
   "language": "python",
   "name": "python3"
  },
  "language_info": {
   "codemirror_mode": {
    "name": "ipython",
    "version": 3
   },
   "file_extension": ".py",
   "mimetype": "text/x-python",
   "name": "python",
   "nbconvert_exporter": "python",
   "pygments_lexer": "ipython3",
   "version": "3.5.5"
  }
 },
 "nbformat": 4,
 "nbformat_minor": 2
}
