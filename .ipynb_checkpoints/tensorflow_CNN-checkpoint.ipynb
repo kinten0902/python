{
 "cells": [
  {
   "cell_type": "markdown",
   "metadata": {},
   "source": [
    "# CNN\n",
    "## Convolutional Neural Network　畳込みニューラルネットワーク\n",
    "\n",
    "### (1) 入力層\n",
    "28x28=784次元のベクトルが入力ベクトルです。<br>\n",
    "数字の画像を784ピクセルに分割し、1次元=1ピクセルで情報を代入しています。\n",
    "\n",
    "### (2) 畳込み層1 -> プーリング層1\n",
    "2層準備。ゼロパディング(zero padding)という補完機能を利用しています。<br>\n",
    "ファイルの畳込みに対して、周縁データが欠落するのですが、その補完のためにパディングを用います。<br>\n",
    "（パディングの話で推測できるように、畳込み層では、入力の次元圧縮を行いません）<br>\n",
    "プーリング(pooling)では、畳込みで返された数値を圧縮します。<br>\n",
    "ここでは、最大プーリング(max pooling)という、最も基本的な手法を用いています。<br>\n",
    "プーリングでも、パディングを行うことがあります。<br>\n",
    "（重ね合わせがずれる領域が存在することがあるため）\n",
    "\n",
    "* ゼロパディング(zero padding)とは、画像や帳票などで数値を表現する際、<br>\n",
    "書式で指定した桁数に満たない部分をゼロで埋めることである。<br>\n",
    "例えば「123」を5桁で表す場合、2桁足りない部分をゼロで埋めて「00123」と表記する<br>\n",
    "* 最大プーリング(max pooling)とは、設定範囲のピクセルの中で最大値を選択する\n",
    "\n",
    "### (3) 畳込み層2 -> プーリング層2\n",
    "(2)の繰り返しでさらに圧縮 -> この段階で7x7=49次元まで落とす予定です。\n",
    "\n",
    "### (4) 全結合層(高密度結合層)\n",
    "抽出したプーリング層からの出力層を入力層に送り、NNのような処理をかけます。<br>\n",
    "活性化関数はReLUです。\n",
    "\n",
    "### (5) クラス分類処理\n",
    "ソフトマックス関数の計算 -> 交差エントロピー誤差関数による評価\n",
    "\n",
    "https://qiita.com/icoxfog417/items/5fd55fad152231d706c2\n"
   ]
  },
  {
   "cell_type": "code",
   "execution_count": null,
   "metadata": {},
   "outputs": [],
   "source": [
    "import input_data"
   ]
  }
 ],
 "metadata": {
  "kernelspec": {
   "display_name": "Python 2",
   "language": "python",
   "name": "python2"
  },
  "language_info": {
   "codemirror_mode": {
    "name": "ipython",
    "version": 2
   },
   "file_extension": ".py",
   "mimetype": "text/x-python",
   "name": "python",
   "nbconvert_exporter": "python",
   "pygments_lexer": "ipython2",
   "version": "2.7.14"
  }
 },
 "nbformat": 4,
 "nbformat_minor": 2
}
