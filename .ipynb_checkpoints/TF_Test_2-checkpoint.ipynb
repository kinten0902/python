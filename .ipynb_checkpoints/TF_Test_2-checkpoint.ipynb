{
 "cells": [
  {
   "cell_type": "code",
   "execution_count": 1,
   "metadata": {},
   "outputs": [],
   "source": [
    "import tensorflow as tf\n",
    "import numpy as np\n",
    "import time"
   ]
  },
  {
   "cell_type": "code",
   "execution_count": null,
   "metadata": {},
   "outputs": [],
   "source": [
    "# 如果你有一个 Tensor t，在使用 t.eval() 时，它等价于 tf.get_default_session().run(t)\n",
    "\n",
    "t = tf.constant(42.0)\n",
    "sess = tf.Session()\n",
    "with sess.as_default():   # or `with sess:` to close on exit\n",
    "    assert sess is tf.get_default_session()\n",
    "    assert t.eval() == sess.run(t)"
   ]
  },
  {
   "cell_type": "code",
   "execution_count": null,
   "metadata": {},
   "outputs": [],
   "source": [
    "# 区别在于，使用 sess.run() 在同一步获取多个tensor中的值\n",
    "\n",
    "t = tf.constant(42.0)\n",
    "u = tf.constant(37.0)\n",
    "tu = tf.multiply(t, u)\n",
    "ut = tf.multiply(u, t)\n",
    "with sess.as_default():\n",
    "   tu.eval()  # runs one step\n",
    "   ut.eval()  # runs one step\n",
    "   sess.run([tu, ut])  # evaluates both tensors in a single step"
   ]
  },
  {
   "cell_type": "code",
   "execution_count": null,
   "metadata": {},
   "outputs": [],
   "source": [
    "# 使用 tf.Session().run() 读取变量的值十分耗时\n",
    "\n",
    "N = 1000\n",
    "x = tf.constant([1.])\n",
    "b = 1.\n",
    "\n",
    "with tf.Session() as sess:\n",
    "    sess.run(tf.global_variables_initializer()) \n",
    "\n",
    "    t1 = time.time()\n",
    "    for _ in range(N):\n",
    "        y = sess.run(x)\n",
    "    print('使用sess.run() 读取变量数据耗时', time.time()-t1)\n",
    "\n",
    "    t2 = time.time()\n",
    "    for _ in range(N):\n",
    "        a = b\n",
    "    print('直接赋值耗时', time.time()-t2)"
   ]
  }
 ],
 "metadata": {
  "kernelspec": {
   "display_name": "Python 3",
   "language": "python",
   "name": "python3"
  },
  "language_info": {
   "codemirror_mode": {
    "name": "ipython",
    "version": 3
   },
   "file_extension": ".py",
   "mimetype": "text/x-python",
   "name": "python",
   "nbconvert_exporter": "python",
   "pygments_lexer": "ipython3",
   "version": "3.6.5"
  }
 },
 "nbformat": 4,
 "nbformat_minor": 2
}
