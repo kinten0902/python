{
 "cells": [
  {
   "cell_type": "markdown",
   "metadata": {},
   "source": [
    "# Gaussian Naive Bayes  \n",
    "#### Naive Bayes (Gaussian, Multinomial, Bernoulli) "
   ]
  },
  {
   "cell_type": "code",
   "execution_count": 1,
   "metadata": {},
   "outputs": [
    {
     "name": "stdout",
     "output_type": "stream",
     "text": [
      "[5.1 3.5 1.4 0.2] 0\n",
      "1.0\n"
     ]
    }
   ],
   "source": [
    "from sklearn import datasets  # データロード用\n",
    "from sklearn import metrics  # 精度評価用\n",
    "from sklearn.naive_bayes import GaussianNB  # ガウシアンナイーブベイズ実行用\n",
    "from sklearn.model_selection import train_test_split  # 学習/テキストデータ作成用\n",
    "\n",
    "# データ用意\n",
    "iris = datasets.load_iris()\n",
    "X = iris.data\n",
    "Y = iris.target\n",
    "print X[0], Y[0]\n",
    "X_train, X_test, Y_train, Y_test = train_test_split(\n",
    "    X, Y, random_state=0)\n",
    "\n",
    "# ガウシアンナイーブベイズ実行\n",
    "model = GaussianNB()  # インスタンス生成\n",
    "model.fit(X_train, Y_train)  # モデル作成実行\n",
    "\n",
    "# 予測実行\n",
    "predicted = model.predict(X_test)  # 予測実行\n",
    "print metrics.accuracy_score(Y_test, predicted)  # 精度計算"
   ]
  },
  {
   "cell_type": "markdown",
   "metadata": {},
   "source": [
    "# Support Vector Machine"
   ]
  },
  {
   "cell_type": "code",
   "execution_count": 2,
   "metadata": {},
   "outputs": [
    {
     "name": "stdout",
     "output_type": "stream",
     "text": [
      "[5.1 3.5 1.4 0.2] 0\n",
      "0.9736842105263158\n",
      "0.9736842105263158\n"
     ]
    }
   ],
   "source": [
    "from sklearn import datasets\n",
    "from sklearn import metrics\n",
    "from sklearn.svm import SVC\n",
    "from sklearn.model_selection import train_test_split\n",
    "\n",
    "# データ用意\n",
    "iris = datasets.load_iris()\n",
    "X = iris.data\n",
    "Y = iris.target\n",
    "print X[0], Y[0]\n",
    "X_train, X_test, Y_train, Y_test = train_test_split(\n",
    "    X, Y, random_state=0)\n",
    "\n",
    "\n",
    "\n",
    "\n",
    "# RBFカーネル(ガウシアンカーネル)\n",
    "model1 = SVC(kernel='rbf')  \n",
    "model1.fit(X_train, Y_train)\n",
    "predicted1 = model1.predict(X_test)\n",
    "print metrics.accuracy_score(Y_test, predicted1)\n",
    "\n",
    "\n",
    "# linear\n",
    "model2 = SVC(kernel='linear') \n",
    "model2.fit(X_train, Y_train)\n",
    "predicted2 = model2.predict(X_test)\n",
    "print metrics.accuracy_score(Y_test, predicted2)\n"
   ]
  }
 ],
 "metadata": {
  "kernelspec": {
   "display_name": "Python 2",
   "language": "python",
   "name": "python2"
  },
  "language_info": {
   "codemirror_mode": {
    "name": "ipython",
    "version": 2
   },
   "file_extension": ".py",
   "mimetype": "text/x-python",
   "name": "python",
   "nbconvert_exporter": "python",
   "pygments_lexer": "ipython2",
   "version": "2.7.14"
  }
 },
 "nbformat": 4,
 "nbformat_minor": 2
}
