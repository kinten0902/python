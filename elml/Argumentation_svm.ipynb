{
 "cells": [
  {
   "cell_type": "code",
   "execution_count": 1,
   "metadata": {},
   "outputs": [],
   "source": [
    "%matplotlib inline\n",
    "import numpy as np\n",
    "import pandas as pd\n",
    "from sklearn import svm\n",
    "from sklearn.feature_extraction.text import HashingVectorizer\n",
    "from sklearn.feature_extraction.text import CountVectorizer\n",
    "from sklearn.metrics import confusion_matrix\n",
    "from sklearn.metrics import classification_report\n",
    "from collections import Counter\n",
    "import matplotlib.pyplot as plt\n",
    "import pickle\n",
    "from sklearn import metrics\n"
   ]
  },
  {
   "cell_type": "code",
   "execution_count": 2,
   "metadata": {},
   "outputs": [
    {
     "name": "stdout",
     "output_type": "stream",
     "text": [
      "train_x: 6988\n",
      "test_x 777\n",
      "train_y 6988\n",
      "test_y 777\n",
      "train_x[0]: 44 33 11 5 0\n",
      "train_y[0]: [2 2]\n",
      "test_x[1]: 129 6 66 4 131 68 30 89 63 5 4 0\n",
      "test_y[1]: [2 2]\n"
     ]
    }
   ],
   "source": [
    "np.set_printoptions(threshold=np.nan)\n",
    "with open('data/Argumentation_FA_id_to_lb.pickle', mode='rb') as f:\n",
    "    id_to_code = pickle.load(f)\n",
    "x = np.asarray([\n",
    "    \" \".join(i.strip().split()[2:])\n",
    "    for i in open(\"data/Argumentation_FA_edu_data.txt\").readlines()\n",
    "])\n",
    "t = np.asarray(\n",
    "    [\n",
    "        l.strip().split()[:2]\n",
    "        for l in open(\"data/Argumentation_FA_edu_data.txt\").readlines()\n",
    "    ],\n",
    "    dtype=np.int64)\n",
    "train = np.arange(len(x)) % 10 != 0\n",
    "\n",
    "print(\"train_x:\", len(x[train]))\n",
    "print(\"test_x\", len(x[~train]))\n",
    "print(\"train_y\", len(t[train]))\n",
    "print(\"test_y\", len(t[~train]))\n",
    "\n",
    "print(\"train_x[0]:\", x[train][0])\n",
    "print(\"train_y[0]:\", t[train][0])\n",
    "print(\"test_x[1]:\", x[~train][1])\n",
    "print(\"test_y[1]:\", t[~train][1])\n"
   ]
  },
  {
   "cell_type": "code",
   "execution_count": 3,
   "metadata": {},
   "outputs": [
    {
     "name": "stderr",
     "output_type": "stream",
     "text": [
      "/home/kinten/.pyenv/versions/3.5.5/lib/python3.5/site-packages/sklearn/feature_extraction/hashing.py:94: DeprecationWarning: the option non_negative=True has been deprecated in 0.19 and will be removed in version 0.21.\n",
      "  \" in version 0.21.\", DeprecationWarning)\n",
      "/home/kinten/.pyenv/versions/3.5.5/lib/python3.5/site-packages/sklearn/feature_extraction/hashing.py:94: DeprecationWarning: the option non_negative=True has been deprecated in 0.19 and will be removed in version 0.21.\n",
      "  \" in version 0.21.\", DeprecationWarning)\n"
     ]
    },
    {
     "name": "stdout",
     "output_type": "stream",
     "text": [
      "test_pred: Counter({2: 499, 3: 267, 1: 11})  test_true: Counter({2: 491, 3: 264, 1: 21, 4: 1})\n",
      "test acc = 0.8828828828828829\n",
      "class: ['grounded and qualified claim', 'grounded claim', 'non-argumentative moves', 'simple claim', 'qualified claim']\n",
      "[[  5   1   5   0]\n",
      " [  1 460  38   0]\n",
      " [ 15  30 221   1]\n",
      " [  0   0   0   0]]\n",
      "                              precision    recall  f1-score   support\n",
      "\n",
      "grounded and qualified claim       0.24      0.45      0.31        11\n",
      "              grounded claim       0.94      0.92      0.93       499\n",
      "     non-argumentative moves       0.84      0.83      0.83       267\n",
      "                simple claim       0.00      0.00      0.00         0\n",
      "\n",
      "                 avg / total       0.89      0.88      0.89       777\n",
      "\n"
     ]
    },
    {
     "name": "stderr",
     "output_type": "stream",
     "text": [
      "/home/kinten/.pyenv/versions/3.5.5/lib/python3.5/site-packages/sklearn/metrics/classification.py:1428: UserWarning: labels size, 4, does not match size of target_names, 5\n",
      "  .format(len(labels), len(target_names))\n",
      "/home/kinten/.pyenv/versions/3.5.5/lib/python3.5/site-packages/sklearn/metrics/classification.py:1137: UndefinedMetricWarning: Recall and F-score are ill-defined and being set to 0.0 in labels with no true samples.\n",
      "  'recall', 'true', average, warn_for)\n"
     ]
    }
   ],
   "source": [
    "c_vectorizer = CountVectorizer()\n",
    "h_vectorizer = HashingVectorizer(non_negative=True, ngram_range=(1, 2), norm=u'l2')\n",
    "# h_vectorizer = HashingVectorizer(ngram_range=(1, 2), norm=u'l2')\n",
    "# h_vectorizer = HashingVectorizer()\n",
    "dat = h_vectorizer.fit_transform(x.tolist())\n",
    "\n",
    "train_feature = dat[train]\n",
    "train_label = t[train][:,0]\n",
    "test_feature = dat[~train]\n",
    "test_label = t[~train][:,0]\n",
    "class_names = list(id_to_code.values())\n",
    "\n",
    "clf = svm.SVC(kernel='linear',probability=True)\n",
    "clf.fit(train_feature,train_label)\n",
    "test_pred = clf.predict(test_feature)\n",
    "print(\"test_pred:\",Counter(test_pred), \" test_true:\",Counter(test_label))\n",
    "print(\"test acc =\",metrics.accuracy_score(test_label, test_pred))\n",
    "print(\"class:\", class_names)\n",
    "print(confusion_matrix(test_pred,test_label))\n",
    "print(classification_report(test_pred,test_label, target_names=class_names))"
   ]
  },
  {
   "cell_type": "code",
   "execution_count": 4,
   "metadata": {},
   "outputs": [
    {
     "name": "stdout",
     "output_type": "stream",
     "text": [
      "test_pred: Counter({2: 777})  test_true: Counter({2: 491, 3: 264, 1: 21, 4: 1})\n",
      "test acc = 0.631917631917632\n",
      "class: ['grounded and qualified claim', 'grounded claim', 'non-argumentative moves', 'simple claim', 'qualified claim']\n",
      "[[  0   0   0   0]\n",
      " [ 21 491 264   1]\n",
      " [  0   0   0   0]\n",
      " [  0   0   0   0]]\n",
      "                              precision    recall  f1-score   support\n",
      "\n",
      "grounded and qualified claim       0.00      0.00      0.00         0\n",
      "              grounded claim       1.00      0.63      0.77       777\n",
      "     non-argumentative moves       0.00      0.00      0.00         0\n",
      "                simple claim       0.00      0.00      0.00         0\n",
      "\n",
      "                 avg / total       1.00      0.63      0.77       777\n",
      "\n"
     ]
    },
    {
     "name": "stderr",
     "output_type": "stream",
     "text": [
      "/home/kinten/.pyenv/versions/3.5.5/lib/python3.5/site-packages/sklearn/metrics/classification.py:1428: UserWarning: labels size, 4, does not match size of target_names, 5\n",
      "  .format(len(labels), len(target_names))\n",
      "/home/kinten/.pyenv/versions/3.5.5/lib/python3.5/site-packages/sklearn/metrics/classification.py:1137: UndefinedMetricWarning: Recall and F-score are ill-defined and being set to 0.0 in labels with no true samples.\n",
      "  'recall', 'true', average, warn_for)\n"
     ]
    }
   ],
   "source": [
    "clf = svm.SVC(kernel='poly',probability=True)\n",
    "clf.fit(train_feature,train_label)\n",
    "test_pred = clf.predict(test_feature)\n",
    "print(\"test_pred:\",Counter(test_pred), \" test_true:\",Counter(test_label))\n",
    "print(\"test acc =\",metrics.accuracy_score(test_label, test_pred))\n",
    "print(\"class:\", class_names)\n",
    "print(confusion_matrix(test_pred,test_label))\n",
    "print(classification_report(test_pred,test_label, target_names=class_names))"
   ]
  },
  {
   "cell_type": "code",
   "execution_count": 5,
   "metadata": {},
   "outputs": [
    {
     "name": "stdout",
     "output_type": "stream",
     "text": [
      "test_pred: Counter({2: 777})  test_true: Counter({2: 491, 3: 264, 1: 21, 4: 1})\n",
      "test acc = 0.631917631917632\n",
      "class: ['grounded and qualified claim', 'grounded claim', 'non-argumentative moves', 'simple claim', 'qualified claim']\n",
      "[[  0   0   0   0]\n",
      " [ 21 491 264   1]\n",
      " [  0   0   0   0]\n",
      " [  0   0   0   0]]\n",
      "                              precision    recall  f1-score   support\n",
      "\n",
      "grounded and qualified claim       0.00      0.00      0.00         0\n",
      "              grounded claim       1.00      0.63      0.77       777\n",
      "     non-argumentative moves       0.00      0.00      0.00         0\n",
      "                simple claim       0.00      0.00      0.00         0\n",
      "\n",
      "                 avg / total       1.00      0.63      0.77       777\n",
      "\n"
     ]
    },
    {
     "name": "stderr",
     "output_type": "stream",
     "text": [
      "/home/kinten/.pyenv/versions/3.5.5/lib/python3.5/site-packages/sklearn/metrics/classification.py:1428: UserWarning: labels size, 4, does not match size of target_names, 5\n",
      "  .format(len(labels), len(target_names))\n",
      "/home/kinten/.pyenv/versions/3.5.5/lib/python3.5/site-packages/sklearn/metrics/classification.py:1137: UndefinedMetricWarning: Recall and F-score are ill-defined and being set to 0.0 in labels with no true samples.\n",
      "  'recall', 'true', average, warn_for)\n"
     ]
    }
   ],
   "source": [
    "clf = svm.SVC(kernel='sigmoid',probability=True)\n",
    "clf.fit(train_feature,train_label)\n",
    "test_pred = clf.predict(test_feature)\n",
    "print(\"test_pred:\",Counter(test_pred), \" test_true:\",Counter(test_label))\n",
    "print(\"test acc =\",metrics.accuracy_score(test_label, test_pred))\n",
    "print(\"class:\", class_names)\n",
    "print(confusion_matrix(test_pred,test_label))\n",
    "print(classification_report(test_pred,test_label, target_names=class_names))"
   ]
  },
  {
   "cell_type": "code",
   "execution_count": 6,
   "metadata": {},
   "outputs": [
    {
     "name": "stdout",
     "output_type": "stream",
     "text": [
      "test_pred: Counter({2: 777})  test_true: Counter({2: 491, 3: 264, 1: 21, 4: 1})\n",
      "test acc = 0.631917631917632\n",
      "class: ['grounded and qualified claim', 'grounded claim', 'non-argumentative moves', 'simple claim', 'qualified claim']\n",
      "[[  0   0   0   0]\n",
      " [ 21 491 264   1]\n",
      " [  0   0   0   0]\n",
      " [  0   0   0   0]]\n",
      "                              precision    recall  f1-score   support\n",
      "\n",
      "grounded and qualified claim       0.00      0.00      0.00         0\n",
      "              grounded claim       1.00      0.63      0.77       777\n",
      "     non-argumentative moves       0.00      0.00      0.00         0\n",
      "                simple claim       0.00      0.00      0.00         0\n",
      "\n",
      "                 avg / total       1.00      0.63      0.77       777\n",
      "\n"
     ]
    },
    {
     "name": "stderr",
     "output_type": "stream",
     "text": [
      "/home/kinten/.pyenv/versions/3.5.5/lib/python3.5/site-packages/sklearn/metrics/classification.py:1428: UserWarning: labels size, 4, does not match size of target_names, 5\n",
      "  .format(len(labels), len(target_names))\n",
      "/home/kinten/.pyenv/versions/3.5.5/lib/python3.5/site-packages/sklearn/metrics/classification.py:1137: UndefinedMetricWarning: Recall and F-score are ill-defined and being set to 0.0 in labels with no true samples.\n",
      "  'recall', 'true', average, warn_for)\n"
     ]
    }
   ],
   "source": [
    "clf = svm.SVC(kernel='rbf',probability=True)\n",
    "clf.fit(train_feature,train_label)\n",
    "test_pred = clf.predict(test_feature)\n",
    "print(\"test_pred:\",Counter(test_pred), \" test_true:\",Counter(test_label))\n",
    "print(\"test acc =\",metrics.accuracy_score(test_label, test_pred))\n",
    "print(\"class:\", class_names)\n",
    "print(confusion_matrix(test_pred,test_label))\n",
    "print(classification_report(test_pred,test_label, target_names=class_names))"
   ]
  },
  {
   "cell_type": "code",
   "execution_count": null,
   "metadata": {},
   "outputs": [],
   "source": []
  },
  {
   "cell_type": "code",
   "execution_count": null,
   "metadata": {},
   "outputs": [],
   "source": []
  },
  {
   "cell_type": "code",
   "execution_count": null,
   "metadata": {},
   "outputs": [],
   "source": []
  },
  {
   "cell_type": "code",
   "execution_count": null,
   "metadata": {},
   "outputs": [],
   "source": []
  },
  {
   "cell_type": "code",
   "execution_count": null,
   "metadata": {},
   "outputs": [],
   "source": []
  },
  {
   "cell_type": "code",
   "execution_count": 7,
   "metadata": {},
   "outputs": [
    {
     "name": "stdout",
     "output_type": "stream",
     "text": [
      "traindata 6988\n",
      "test 777\n"
     ]
    },
    {
     "name": "stderr",
     "output_type": "stream",
     "text": [
      "/home/kinten/.pyenv/versions/3.5.5/lib/python3.5/site-packages/sklearn/feature_extraction/hashing.py:94: DeprecationWarning: the option non_negative=True has been deprecated in 0.19 and will be removed in version 0.21.\n",
      "  \" in version 0.21.\", DeprecationWarning)\n",
      "/home/kinten/.pyenv/versions/3.5.5/lib/python3.5/site-packages/sklearn/feature_extraction/hashing.py:94: DeprecationWarning: the option non_negative=True has been deprecated in 0.19 and will be removed in version 0.21.\n",
      "  \" in version 0.21.\", DeprecationWarning)\n"
     ]
    },
    {
     "name": "stdout",
     "output_type": "stream",
     "text": [
      "Counter({2: 499, 3: 267, 1: 11}) Counter({2: 491, 3: 264, 1: 21, 4: 1})\n",
      "[[  5   1   5   0]\n",
      " [  1 460  38   0]\n",
      " [ 15  30 221   1]\n",
      " [  0   0   0   0]]\n",
      "['grounded and qualified claim', 'grounded claim', 'non-argumentative moves', 'simple claim', 'qualified claim']\n",
      "                              precision    recall  f1-score   support\n",
      "\n",
      "grounded and qualified claim       0.24      0.45      0.31        11\n",
      "              grounded claim       0.94      0.92      0.93       499\n",
      "     non-argumentative moves       0.84      0.83      0.83       267\n",
      "                simple claim       0.00      0.00      0.00         0\n",
      "\n",
      "                 avg / total       0.89      0.88      0.89       777\n",
      "\n"
     ]
    },
    {
     "name": "stderr",
     "output_type": "stream",
     "text": [
      "/home/kinten/.pyenv/versions/3.5.5/lib/python3.5/site-packages/sklearn/metrics/classification.py:1428: UserWarning: labels size, 4, does not match size of target_names, 5\n",
      "  .format(len(labels), len(target_names))\n",
      "/home/kinten/.pyenv/versions/3.5.5/lib/python3.5/site-packages/sklearn/metrics/classification.py:1137: UndefinedMetricWarning: Recall and F-score are ill-defined and being set to 0.0 in labels with no true samples.\n",
      "  'recall', 'true', average, warn_for)\n"
     ]
    }
   ],
   "source": [
    "with open('data/Argumentation_FA_id_to_lb.pickle', mode='rb') as f:\n",
    "    id_to_code = pickle.load(f)\n",
    "\n",
    "x = np.asarray(\n",
    "    [\" \".join(i.strip().split()[2:]) for i in open(\"data/Argumentation_FA_edu_data.txt\").readlines()])\n",
    "t = np.asarray(\n",
    "    [l.strip().split()[:2] for l in open(\"data/Argumentation_FA_edu_data.txt\").readlines()], dtype=np.int64)\n",
    "train = np.arange(len(x)) % 10 != 0\n",
    "print(\"traindata\", len(x[train]))\n",
    "print(\"test\", len(x[~train]))\n",
    "count_vectorizer = CountVectorizer()\n",
    "vectorizer = HashingVectorizer(\n",
    "    non_negative=True, ngram_range=(1, 2), norm=u'l2')\n",
    "dat = vectorizer.fit_transform(x.tolist())\n",
    "\n",
    "clf = svm.SVC(kernel='linear', probability=True)  #0.890063424947\n",
    "#clf = svm.SVC(kernel='poly', probability=True) #0.547568710359\n",
    "#clf = svm.SVC(kernel='sigmoid', probability=True) #0.547568710359\n",
    "clf.fit(dat[train], t[train][:, 0])\n",
    "\n",
    "pred = clf.predict(dat[~train])\n",
    "label = t[~train][:, 0]\n",
    "print(Counter(pred), Counter(label))\n",
    "cf = confusion_matrix(pred, label)\n",
    "print(cf)\n",
    "#print(np.mean(label == pred))\n",
    "class_names = list(id_to_code.values())\n",
    "print(class_names)\n",
    "print(classification_report(pred,label, target_names=class_names))"
   ]
  },
  {
   "cell_type": "code",
   "execution_count": null,
   "metadata": {},
   "outputs": [],
   "source": []
  }
 ],
 "metadata": {
  "kernelspec": {
   "display_name": "Python 3",
   "language": "python",
   "name": "python3"
  },
  "language_info": {
   "codemirror_mode": {
    "name": "ipython",
    "version": 3
   },
   "file_extension": ".py",
   "mimetype": "text/x-python",
   "name": "python",
   "nbconvert_exporter": "python",
   "pygments_lexer": "ipython3",
   "version": "3.6.5"
  }
 },
 "nbformat": 4,
 "nbformat_minor": 2
}
