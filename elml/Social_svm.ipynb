{
 "cells": [
  {
   "cell_type": "code",
   "execution_count": 1,
   "metadata": {},
   "outputs": [],
   "source": [
    "%matplotlib inline\n",
    "import numpy as np\n",
    "import pandas as pd\n",
    "from sklearn import svm\n",
    "from sklearn.feature_extraction.text import HashingVectorizer\n",
    "from sklearn.feature_extraction.text import CountVectorizer\n",
    "from sklearn.metrics import confusion_matrix\n",
    "from sklearn.metrics import classification_report\n",
    "from collections import Counter\n",
    "import matplotlib.pyplot as plt\n",
    "import pickle\n",
    "from sklearn import metrics\n"
   ]
  },
  {
   "cell_type": "code",
   "execution_count": 2,
   "metadata": {},
   "outputs": [
    {
     "name": "stdout",
     "output_type": "stream",
     "text": [
      "train_x: 2357\n",
      "test_x 262\n",
      "train_y 2357\n",
      "test_y 262\n",
      "train_x[0]: 1167 1968 3356 562 19 9 54 15 1 7 2 8 64 135 5 63 2 2449 10 649 102 82 9 54 15 977 2 48 55 9 0 3553 2560 7 0\n",
      "train_y[0]: [6 6]\n",
      "test_x[1]: 1883 3 1308 2 65 1 3 18 6 12 0\n",
      "test_y[1]: [6 6]\n"
     ]
    }
   ],
   "source": [
    "np.set_printoptions(threshold=np.nan)\n",
    "with open('data/Social_FA_id_to_lb.pickle', mode='rb') as f:\n",
    "    id_to_code = pickle.load(f)\n",
    "x = np.asarray([\n",
    "    \" \".join(i.strip().split()[2:])\n",
    "    for i in open(\"data/Social_FA_edu_data.txt\").readlines()\n",
    "])\n",
    "t = np.asarray(\n",
    "    [\n",
    "        l.strip().split()[:2]\n",
    "        for l in open(\"data/Social_FA_edu_data.txt\").readlines()\n",
    "    ],\n",
    "    dtype=np.int64)\n",
    "train = np.arange(len(x)) % 10 != 0\n",
    "\n",
    "print(\"train_x:\", len(x[train]))\n",
    "print(\"test_x\", len(x[~train]))\n",
    "print(\"train_y\", len(t[train]))\n",
    "print(\"test_y\", len(t[~train]))\n",
    "\n",
    "print(\"train_x[0]:\", x[train][0])\n",
    "print(\"train_y[0]:\", t[train][0])\n",
    "print(\"test_x[1]:\", x[~train][1])\n",
    "print(\"test_y[1]:\", t[~train][1])\n"
   ]
  },
  {
   "cell_type": "code",
   "execution_count": 3,
   "metadata": {},
   "outputs": [
    {
     "name": "stdout",
     "output_type": "stream",
     "text": [
      "test_pred: Counter({6: 155, 0: 80, 5: 27})  test_true: Counter({6: 127, 0: 88, 5: 29, 3: 7, 1: 6, 2: 3, 4: 2})\n",
      "test acc = 0.7480916030534351\n",
      "class: ['quick consensus building', 'conflict-oriented consensus building', 'summary', 'integration-oriented consensus building', 'blank', 'elicitation', 'externalization']\n",
      "[[ 67   1   0   3   0   1   8]\n",
      " [  0   0   0   0   0   0   0]\n",
      " [  0   0   0   0   0   0   0]\n",
      " [  0   0   0   0   0   0   0]\n",
      " [  0   0   0   0   0   0   0]\n",
      " [  1   0   0   0   0  18   8]\n",
      " [ 20   5   3   4   2  10 111]]\n",
      "                                         precision    recall  f1-score   support\n",
      "\n",
      "               quick consensus building       0.76      0.84      0.80        80\n",
      "   conflict-oriented consensus building       0.00      0.00      0.00         0\n",
      "                                summary       0.00      0.00      0.00         0\n",
      "integration-oriented consensus building       0.00      0.00      0.00         0\n",
      "                                  blank       0.00      0.00      0.00         0\n",
      "                            elicitation       0.62      0.67      0.64        27\n",
      "                        externalization       0.87      0.72      0.79       155\n",
      "\n",
      "                            avg / total       0.81      0.75      0.78       262\n",
      "\n"
     ]
    },
    {
     "name": "stderr",
     "output_type": "stream",
     "text": [
      "/home/kinten/.pyenv/versions/3.5.5/lib/python3.5/site-packages/sklearn/metrics/classification.py:1137: UndefinedMetricWarning: Recall and F-score are ill-defined and being set to 0.0 in labels with no true samples.\n",
      "  'recall', 'true', average, warn_for)\n"
     ]
    }
   ],
   "source": [
    "c_vectorizer = CountVectorizer()\n",
    "# h_vectorizer = HashingVectorizer(non_negative=True, ngram_range=(1, 2), norm=u'l2')\n",
    "# h_vectorizer = HashingVectorizer(ngram_range=(1, 2), norm=u'l2')\n",
    "h_vectorizer = HashingVectorizer()\n",
    "dat = h_vectorizer.fit_transform(x.tolist())\n",
    "\n",
    "train_feature = dat[train]\n",
    "train_label = t[train][:,0]\n",
    "test_feature = dat[~train]\n",
    "test_label = t[~train][:,0]\n",
    "class_names = list(id_to_code.values())\n",
    "\n",
    "clf = svm.SVC(kernel='linear',probability=True)\n",
    "clf.fit(train_feature,train_label)\n",
    "test_pred = clf.predict(test_feature)\n",
    "print(\"test_pred:\",Counter(test_pred), \" test_true:\",Counter(test_label))\n",
    "print(\"test acc =\",metrics.accuracy_score(test_label, test_pred))\n",
    "print(\"class:\", class_names)\n",
    "print(confusion_matrix(test_pred,test_label))\n",
    "print(classification_report(test_pred,test_label, target_names=class_names))"
   ]
  },
  {
   "cell_type": "code",
   "execution_count": 4,
   "metadata": {},
   "outputs": [
    {
     "name": "stdout",
     "output_type": "stream",
     "text": [
      "test_pred: Counter({6: 262})  test_true: Counter({6: 127, 0: 88, 5: 29, 3: 7, 1: 6, 2: 3, 4: 2})\n",
      "test acc = 0.4847328244274809\n",
      "class: ['quick consensus building', 'conflict-oriented consensus building', 'summary', 'integration-oriented consensus building', 'blank', 'elicitation', 'externalization']\n",
      "[[  0   0   0   0   0   0   0]\n",
      " [  0   0   0   0   0   0   0]\n",
      " [  0   0   0   0   0   0   0]\n",
      " [  0   0   0   0   0   0   0]\n",
      " [  0   0   0   0   0   0   0]\n",
      " [  0   0   0   0   0   0   0]\n",
      " [ 88   6   3   7   2  29 127]]\n",
      "                                         precision    recall  f1-score   support\n",
      "\n",
      "               quick consensus building       0.00      0.00      0.00         0\n",
      "   conflict-oriented consensus building       0.00      0.00      0.00         0\n",
      "                                summary       0.00      0.00      0.00         0\n",
      "integration-oriented consensus building       0.00      0.00      0.00         0\n",
      "                                  blank       0.00      0.00      0.00         0\n",
      "                            elicitation       0.00      0.00      0.00         0\n",
      "                        externalization       1.00      0.48      0.65       262\n",
      "\n",
      "                            avg / total       1.00      0.48      0.65       262\n",
      "\n"
     ]
    },
    {
     "name": "stderr",
     "output_type": "stream",
     "text": [
      "/home/kinten/.pyenv/versions/3.5.5/lib/python3.5/site-packages/sklearn/metrics/classification.py:1137: UndefinedMetricWarning: Recall and F-score are ill-defined and being set to 0.0 in labels with no true samples.\n",
      "  'recall', 'true', average, warn_for)\n"
     ]
    }
   ],
   "source": [
    "clf = svm.SVC(kernel='poly',probability=True)\n",
    "clf.fit(train_feature,train_label)\n",
    "test_pred = clf.predict(test_feature)\n",
    "print(\"test_pred:\",Counter(test_pred), \" test_true:\",Counter(test_label))\n",
    "print(\"test acc =\",metrics.accuracy_score(test_label, test_pred))\n",
    "print(\"class:\", class_names)\n",
    "print(confusion_matrix(test_pred,test_label))\n",
    "print(classification_report(test_pred,test_label, target_names=class_names))"
   ]
  },
  {
   "cell_type": "code",
   "execution_count": 5,
   "metadata": {},
   "outputs": [
    {
     "name": "stdout",
     "output_type": "stream",
     "text": [
      "test_pred: Counter({6: 262})  test_true: Counter({6: 127, 0: 88, 5: 29, 3: 7, 1: 6, 2: 3, 4: 2})\n",
      "test acc = 0.4847328244274809\n",
      "class: ['quick consensus building', 'conflict-oriented consensus building', 'summary', 'integration-oriented consensus building', 'blank', 'elicitation', 'externalization']\n",
      "[[  0   0   0   0   0   0   0]\n",
      " [  0   0   0   0   0   0   0]\n",
      " [  0   0   0   0   0   0   0]\n",
      " [  0   0   0   0   0   0   0]\n",
      " [  0   0   0   0   0   0   0]\n",
      " [  0   0   0   0   0   0   0]\n",
      " [ 88   6   3   7   2  29 127]]\n",
      "                                         precision    recall  f1-score   support\n",
      "\n",
      "               quick consensus building       0.00      0.00      0.00         0\n",
      "   conflict-oriented consensus building       0.00      0.00      0.00         0\n",
      "                                summary       0.00      0.00      0.00         0\n",
      "integration-oriented consensus building       0.00      0.00      0.00         0\n",
      "                                  blank       0.00      0.00      0.00         0\n",
      "                            elicitation       0.00      0.00      0.00         0\n",
      "                        externalization       1.00      0.48      0.65       262\n",
      "\n",
      "                            avg / total       1.00      0.48      0.65       262\n",
      "\n"
     ]
    },
    {
     "name": "stderr",
     "output_type": "stream",
     "text": [
      "/home/kinten/.pyenv/versions/3.5.5/lib/python3.5/site-packages/sklearn/metrics/classification.py:1137: UndefinedMetricWarning: Recall and F-score are ill-defined and being set to 0.0 in labels with no true samples.\n",
      "  'recall', 'true', average, warn_for)\n"
     ]
    }
   ],
   "source": [
    "clf = svm.SVC(kernel='sigmoid',probability=True)\n",
    "clf.fit(train_feature,train_label)\n",
    "test_pred = clf.predict(test_feature)\n",
    "print(\"test_pred:\",Counter(test_pred), \" test_true:\",Counter(test_label))\n",
    "print(\"test acc =\",metrics.accuracy_score(test_label, test_pred))\n",
    "print(\"class:\", class_names)\n",
    "print(confusion_matrix(test_pred,test_label))\n",
    "print(classification_report(test_pred,test_label, target_names=class_names))"
   ]
  },
  {
   "cell_type": "code",
   "execution_count": 6,
   "metadata": {},
   "outputs": [
    {
     "name": "stdout",
     "output_type": "stream",
     "text": [
      "test_pred: Counter({6: 262})  test_true: Counter({6: 127, 0: 88, 5: 29, 3: 7, 1: 6, 2: 3, 4: 2})\n",
      "test acc = 0.4847328244274809\n",
      "class: ['quick consensus building', 'conflict-oriented consensus building', 'summary', 'integration-oriented consensus building', 'blank', 'elicitation', 'externalization']\n",
      "[[  0   0   0   0   0   0   0]\n",
      " [  0   0   0   0   0   0   0]\n",
      " [  0   0   0   0   0   0   0]\n",
      " [  0   0   0   0   0   0   0]\n",
      " [  0   0   0   0   0   0   0]\n",
      " [  0   0   0   0   0   0   0]\n",
      " [ 88   6   3   7   2  29 127]]\n",
      "                                         precision    recall  f1-score   support\n",
      "\n",
      "               quick consensus building       0.00      0.00      0.00         0\n",
      "   conflict-oriented consensus building       0.00      0.00      0.00         0\n",
      "                                summary       0.00      0.00      0.00         0\n",
      "integration-oriented consensus building       0.00      0.00      0.00         0\n",
      "                                  blank       0.00      0.00      0.00         0\n",
      "                            elicitation       0.00      0.00      0.00         0\n",
      "                        externalization       1.00      0.48      0.65       262\n",
      "\n",
      "                            avg / total       1.00      0.48      0.65       262\n",
      "\n"
     ]
    },
    {
     "name": "stderr",
     "output_type": "stream",
     "text": [
      "/home/kinten/.pyenv/versions/3.5.5/lib/python3.5/site-packages/sklearn/metrics/classification.py:1137: UndefinedMetricWarning: Recall and F-score are ill-defined and being set to 0.0 in labels with no true samples.\n",
      "  'recall', 'true', average, warn_for)\n"
     ]
    }
   ],
   "source": [
    "clf = svm.SVC(kernel='rbf',probability=True)\n",
    "clf.fit(train_feature,train_label)\n",
    "test_pred = clf.predict(test_feature)\n",
    "print(\"test_pred:\",Counter(test_pred), \" test_true:\",Counter(test_label))\n",
    "print(\"test acc =\",metrics.accuracy_score(test_label, test_pred))\n",
    "print(\"class:\", class_names)\n",
    "print(confusion_matrix(test_pred,test_label))\n",
    "print(classification_report(test_pred,test_label, target_names=class_names))"
   ]
  },
  {
   "cell_type": "code",
   "execution_count": null,
   "metadata": {},
   "outputs": [],
   "source": []
  },
  {
   "cell_type": "code",
   "execution_count": null,
   "metadata": {},
   "outputs": [],
   "source": []
  },
  {
   "cell_type": "code",
   "execution_count": null,
   "metadata": {},
   "outputs": [],
   "source": []
  },
  {
   "cell_type": "code",
   "execution_count": null,
   "metadata": {},
   "outputs": [],
   "source": []
  },
  {
   "cell_type": "code",
   "execution_count": null,
   "metadata": {},
   "outputs": [],
   "source": []
  },
  {
   "cell_type": "code",
   "execution_count": 7,
   "metadata": {},
   "outputs": [
    {
     "name": "stdout",
     "output_type": "stream",
     "text": [
      "traindata 2357\n",
      "test 262\n"
     ]
    },
    {
     "name": "stderr",
     "output_type": "stream",
     "text": [
      "/home/kinten/.pyenv/versions/3.5.5/lib/python3.5/site-packages/sklearn/feature_extraction/hashing.py:94: DeprecationWarning: the option non_negative=True has been deprecated in 0.19 and will be removed in version 0.21.\n",
      "  \" in version 0.21.\", DeprecationWarning)\n",
      "/home/kinten/.pyenv/versions/3.5.5/lib/python3.5/site-packages/sklearn/feature_extraction/hashing.py:94: DeprecationWarning: the option non_negative=True has been deprecated in 0.19 and will be removed in version 0.21.\n",
      "  \" in version 0.21.\", DeprecationWarning)\n"
     ]
    },
    {
     "name": "stdout",
     "output_type": "stream",
     "text": [
      "Counter({6: 154, 0: 86, 5: 22}) Counter({6: 127, 0: 88, 5: 29, 3: 7, 1: 6, 2: 3, 4: 2})\n",
      "[[ 71   1   1   3   0   1   9]\n",
      " [  0   0   0   0   0   0   0]\n",
      " [  0   0   0   0   0   0   0]\n",
      " [  0   0   0   0   0   0   0]\n",
      " [  0   0   0   0   0   0   0]\n",
      " [  1   0   0   0   0  16   5]\n",
      " [ 16   5   2   4   2  12 113]]\n",
      "['quick consensus building', 'conflict-oriented consensus building', 'summary', 'integration-oriented consensus building', 'blank', 'elicitation', 'externalization']\n",
      "                                         precision    recall  f1-score   support\n",
      "\n",
      "               quick consensus building       0.81      0.83      0.82        86\n",
      "   conflict-oriented consensus building       0.00      0.00      0.00         0\n",
      "                                summary       0.00      0.00      0.00         0\n",
      "integration-oriented consensus building       0.00      0.00      0.00         0\n",
      "                                  blank       0.00      0.00      0.00         0\n",
      "                            elicitation       0.55      0.73      0.63        22\n",
      "                        externalization       0.89      0.73      0.80       154\n",
      "\n",
      "                            avg / total       0.83      0.76      0.79       262\n",
      "\n"
     ]
    },
    {
     "name": "stderr",
     "output_type": "stream",
     "text": [
      "/home/kinten/.pyenv/versions/3.5.5/lib/python3.5/site-packages/sklearn/metrics/classification.py:1137: UndefinedMetricWarning: Recall and F-score are ill-defined and being set to 0.0 in labels with no true samples.\n",
      "  'recall', 'true', average, warn_for)\n"
     ]
    }
   ],
   "source": [
    "with open('data/Social_FA_id_to_lb.pickle', mode='rb') as f:\n",
    "    id_to_code = pickle.load(f)\n",
    "\n",
    "x = np.asarray(\n",
    "    [\" \".join(i.strip().split()[2:]) for i in open(\"data/Social_FA_edu_data.txt\").readlines()])\n",
    "t = np.asarray(\n",
    "    [l.strip().split()[:2] for l in open(\"data/Social_FA_edu_data.txt\").readlines()], dtype=np.int64)\n",
    "train = np.arange(len(x)) % 10 != 0\n",
    "print(\"traindata\", len(x[train]))\n",
    "print(\"test\", len(x[~train]))\n",
    "count_vectorizer = CountVectorizer()\n",
    "vectorizer = HashingVectorizer(\n",
    "    non_negative=True, ngram_range=(1, 2), norm=u'l2')\n",
    "dat = vectorizer.fit_transform(x.tolist())\n",
    "\n",
    "clf = svm.SVC(kernel='linear', probability=True)  #0.890063424947\n",
    "#clf = svm.SVC(kernel='poly', probability=True) #0.547568710359\n",
    "#clf = svm.SVC(kernel='sigmoid', probability=True) #0.547568710359\n",
    "clf.fit(dat[train], t[train][:, 0])\n",
    "\n",
    "pred = clf.predict(dat[~train])\n",
    "label = t[~train][:, 0]\n",
    "print(Counter(pred), Counter(label))\n",
    "cf = confusion_matrix(pred, label)\n",
    "print(cf)\n",
    "#print(np.mean(label == pred))\n",
    "class_names = list(id_to_code.values())\n",
    "print(class_names)\n",
    "print(classification_report(pred,label, target_names=class_names))"
   ]
  },
  {
   "cell_type": "code",
   "execution_count": null,
   "metadata": {},
   "outputs": [],
   "source": []
  }
 ],
 "metadata": {
  "kernelspec": {
   "display_name": "Python 3",
   "language": "python",
   "name": "python3"
  },
  "language_info": {
   "codemirror_mode": {
    "name": "ipython",
    "version": 3
   },
   "file_extension": ".py",
   "mimetype": "text/x-python",
   "name": "python",
   "nbconvert_exporter": "python",
   "pygments_lexer": "ipython3",
   "version": "3.6.5"
  }
 },
 "nbformat": 4,
 "nbformat_minor": 2
}
