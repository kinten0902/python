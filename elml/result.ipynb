{
 "cells": [
  {
   "cell_type": "code",
   "execution_count": 1,
   "metadata": {},
   "outputs": [],
   "source": [
    "# -*- coding: utf-8 -*-\n",
    "%matplotlib inline\n",
    "import numpy as np\n",
    "import pandas as pd\n",
    "from collections import Counter\n",
    "import re\n",
    "import pickle\n",
    "import MeCab\n",
    "mc = MeCab.Tagger(\"-Ochasen\")"
   ]
  },
  {
   "cell_type": "code",
   "execution_count": 2,
   "metadata": {},
   "outputs": [],
   "source": [
    "result_svm_excel = pd.ExcelFile(\"data/excel/new_data_result_svm.xlsx\")\n",
    "sheet_name = result_svm_excel.sheet_names[0]\n",
    "result_svm_df = result_svm_excel.parse(sheet_name)"
   ]
  },
  {
   "cell_type": "code",
   "execution_count": 3,
   "metadata": {},
   "outputs": [],
   "source": [
    "#result_svm_df"
   ]
  },
  {
   "cell_type": "code",
   "execution_count": 4,
   "metadata": {},
   "outputs": [],
   "source": [
    "# test\n",
    "\n",
    "# gid = Counter(result_svm_df.values[:,2]).keys()\n",
    "# print(gid)\n",
    "# print(type(gid))\n",
    "# gidd =np.arange(46)+1\n",
    "# print(gidd)\n",
    "# print(type(gidd))\n",
    "# print(type(result_svm_df.values))\n",
    "# d = result_svm_df.values\n",
    "# print(d.shape)\n",
    "# print(d[np.where(d[:,2]==1)])\n",
    "# xx = d[np.where(d[:,2]==1)]\n",
    "# print(Counter(xx[:,5]))\n"
   ]
  },
  {
   "cell_type": "code",
   "execution_count": 5,
   "metadata": {},
   "outputs": [
    {
     "name": "stdout",
     "output_type": "stream",
     "text": [
      "Counter({'on task': 32, 'off task': 22})\n",
      "Counter({'on task': 27, 'off task': 23})\n",
      "Counter({'on task': 26, 'off task': 21})\n",
      "Counter({'on task': 58, 'off task': 28})\n",
      "Counter({'on task': 42, 'off task': 20})\n",
      "Counter({'on task': 65, 'off task': 42})\n",
      "Counter({'on task': 32, 'off task': 29})\n",
      "Counter({'on task': 51, 'off task': 15})\n",
      "Counter({'on task': 56, 'off task': 42})\n",
      "Counter({'on task': 34, 'off task': 23})\n",
      "Counter({'off task': 18, 'on task': 11})\n",
      "Counter({'off task': 32, 'on task': 26})\n",
      "Counter({'on task': 40, 'off task': 21})\n",
      "Counter({'off task': 17, 'on task': 11})\n",
      "Counter({'on task': 38, 'off task': 23})\n",
      "Counter({'on task': 34, 'off task': 19})\n",
      "Counter({'on task': 33, 'off task': 26})\n",
      "Counter({'on task': 53, 'off task': 26})\n",
      "Counter({'on task': 55, 'off task': 19})\n",
      "Counter({'on task': 28, 'off task': 21})\n",
      "Counter({'on task': 26, 'off task': 18})\n",
      "Counter({'off task': 32, 'on task': 27})\n",
      "Counter({'on task': 53, 'off task': 23})\n",
      "Counter({'on task': 15, 'off task': 6})\n",
      "Counter({'on task': 21, 'off task': 20})\n",
      "Counter({'on task': 42, 'off task': 28})\n",
      "Counter({'on task': 38, 'off task': 29})\n",
      "Counter({'on task': 47, 'off task': 26})\n",
      "Counter({'on task': 61, 'off task': 56})\n",
      "Counter({'off task': 21, 'on task': 17})\n",
      "Counter({'on task': 20, 'off task': 16})\n",
      "Counter({'on task': 43, 'off task': 21})\n",
      "Counter({'on task': 36, 'off task': 14})\n",
      "Counter({'on task': 18, 'off task': 17})\n",
      "Counter({'on task': 50, 'off task': 27})\n",
      "Counter({'on task': 31, 'off task': 29})\n",
      "Counter({'on task': 47, 'off task': 22})\n",
      "Counter({'off task': 16, 'on task': 14})\n",
      "Counter({'on task': 69, 'off task': 14})\n",
      "Counter({'on task': 50, 'off task': 40})\n",
      "Counter({'off task': 24, 'on task': 23})\n",
      "Counter({'off task': 18, 'on task': 16})\n",
      "Counter({'off task': 33, 'on task': 33})\n",
      "Counter({'on task': 30, 'off task': 21})\n",
      "Counter({'on task': 42, 'off task': 18})\n",
      "Counter({'on task': 28, 'off task': 18})\n",
      "[[32 22]\n",
      " [27 23]\n",
      " [26 21]\n",
      " [58 28]\n",
      " [42 20]\n",
      " [65 42]\n",
      " [32 29]\n",
      " [51 15]\n",
      " [56 42]\n",
      " [34 23]\n",
      " [11 18]\n",
      " [26 32]\n",
      " [40 21]\n",
      " [11 17]\n",
      " [38 23]\n",
      " [34 19]\n",
      " [33 26]\n",
      " [53 26]\n",
      " [55 19]\n",
      " [28 21]\n",
      " [26 18]\n",
      " [27 32]\n",
      " [53 23]\n",
      " [15  6]\n",
      " [21 20]\n",
      " [42 28]\n",
      " [38 29]\n",
      " [47 26]\n",
      " [61 56]\n",
      " [17 21]\n",
      " [20 16]\n",
      " [43 21]\n",
      " [36 14]\n",
      " [18 17]\n",
      " [50 27]\n",
      " [31 29]\n",
      " [47 22]\n",
      " [14 16]\n",
      " [69 14]\n",
      " [50 40]\n",
      " [23 24]\n",
      " [16 18]\n",
      " [33 33]\n",
      " [30 21]\n",
      " [42 18]\n",
      " [28 18]]\n"
     ]
    }
   ],
   "source": [
    "# qqq = [np.array(list(Counter(d[np.where(d[:,2]==i)][:,5]).values())) for i in gid]\n",
    "\n",
    "d = result_svm_df.values\n",
    "gid = np.arange(46)+1\n",
    "data = np.array([[0,0]])  \n",
    "for i in gid:\n",
    "    x = d[np.where(d[:,2]==i)]\n",
    "    c = Counter(x[:,5])\n",
    "    print(c)\n",
    "    data = np.vstack([data, [[c['on task'],c['off task']]]])\n",
    "data = data[1:]\n",
    "print(data)"
   ]
  },
  {
   "cell_type": "code",
   "execution_count": 12,
   "metadata": {},
   "outputs": [
    {
     "name": "stdout",
     "output_type": "stream",
     "text": [
      "<class 'numpy.ndarray'>\n",
      "(46, 2)\n",
      "2743\n",
      "35.84782608695652\n",
      "23.782608695652176\n"
     ]
    }
   ],
   "source": [
    "print(type(data))\n",
    "print(data.shape)\n",
    "\n",
    "sum = np.sum(data)\n",
    "ave_on = np.sum(data,axis=0)[0]/46\n",
    "ave_off = np.sum(data,axis=0)[1]/46\n",
    "\n",
    "print(sum)\n",
    "print(ave_on)\n",
    "print(ave_off)"
   ]
  },
  {
   "cell_type": "code",
   "execution_count": 15,
   "metadata": {},
   "outputs": [
    {
     "name": "stdout",
     "output_type": "stream",
     "text": [
      "32 22 54\n",
      "27 23 50\n",
      "26 21 47\n",
      "58 28 86\n",
      "42 20 62\n",
      "65 42 107\n",
      "32 29 61\n",
      "51 15 66\n",
      "56 42 98\n",
      "34 23 57\n",
      "11 18 29\n",
      "26 32 58\n",
      "40 21 61\n",
      "11 17 28\n",
      "38 23 61\n",
      "34 19 53\n",
      "33 26 59\n",
      "53 26 79\n",
      "55 19 74\n",
      "28 21 49\n",
      "26 18 44\n",
      "27 32 59\n",
      "53 23 76\n",
      "15 6 21\n",
      "21 20 41\n",
      "42 28 70\n",
      "38 29 67\n",
      "47 26 73\n",
      "61 56 117\n",
      "17 21 38\n",
      "20 16 36\n",
      "43 21 64\n",
      "36 14 50\n",
      "18 17 35\n",
      "50 27 77\n",
      "31 29 60\n",
      "47 22 69\n",
      "14 16 30\n",
      "69 14 83\n",
      "50 40 90\n",
      "23 24 47\n",
      "16 18 34\n",
      "33 33 66\n",
      "30 21 51\n",
      "42 18 60\n",
      "28 18 46\n"
     ]
    }
   ],
   "source": [
    "for i in np.arange(46):\n",
    "    print(data[i][0],data[i][1],data[i][0]+data[i][1])\n",
    "    print()\n"
   ]
  },
  {
   "cell_type": "code",
   "execution_count": null,
   "metadata": {},
   "outputs": [],
   "source": []
  },
  {
   "cell_type": "code",
   "execution_count": null,
   "metadata": {},
   "outputs": [],
   "source": []
  }
 ],
 "metadata": {
  "kernelspec": {
   "display_name": "Python 3",
   "language": "python",
   "name": "python3"
  },
  "language_info": {
   "codemirror_mode": {
    "name": "ipython",
    "version": 3
   },
   "file_extension": ".py",
   "mimetype": "text/x-python",
   "name": "python",
   "nbconvert_exporter": "python",
   "pygments_lexer": "ipython3",
   "version": "3.6.5"
  }
 },
 "nbformat": 4,
 "nbformat_minor": 2
}
