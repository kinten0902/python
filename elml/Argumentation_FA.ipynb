{
 "cells": [
  {
   "cell_type": "code",
   "execution_count": 1,
   "metadata": {},
   "outputs": [],
   "source": [
    "import numpy as np\n",
    "import math\n",
    "import pickle\n",
    "from openpyxl import Workbook\n",
    "from openpyxl import load_workbook\n",
    "import mojimoji\n",
    "import numpy as np\n",
    "import glob\n",
    "import re\n",
    "import MeCab\n",
    "import types\n",
    "import pandas as pd\n",
    "from collections import Counter\n",
    "%matplotlib inline\n",
    "\n",
    "mc = MeCab.Tagger(\"-Ochasen\")"
   ]
  },
  {
   "cell_type": "code",
   "execution_count": 2,
   "metadata": {},
   "outputs": [],
   "source": [
    "dirpath = \"data/excel/\"\n",
    "\n",
    "filename = \"A_W_171116.xlsx\"\n",
    "A_W_171116_excel = pd.ExcelFile(dirpath + filename)\n",
    "sheet_name = A_W_171116_excel.sheet_names[0]\n",
    "A_W_171116_df = A_W_171116_excel.parse(sheet_name)\n",
    "\n",
    "filename = \"A_W_171128.xlsx\"\n",
    "A_W_171128_excel = pd.ExcelFile(dirpath + filename)\n",
    "sheet_name = A_W_171128_excel.sheet_names[0]\n",
    "A_W_171128_df = A_W_171128_excel.parse(sheet_name)\n",
    "\n",
    "filename = \"171116.xlsx\"\n",
    "S_H_171116_excel = pd.ExcelFile(dirpath + filename)\n",
    "sheet_name = S_H_171116_excel.sheet_names[0]\n",
    "S_H_171116_df = S_H_171116_excel.parse(sheet_name)\n",
    "\n",
    "filename = \"2015斉藤.xlsx\"\n",
    "S_2015_excel = pd.ExcelFile(dirpath + filename)\n",
    "sheet_name = S_2015_excel.sheet_names[0]\n",
    "S_2015_df = S_2015_excel.parse(sheet_name)"
   ]
  },
  {
   "cell_type": "markdown",
   "metadata": {},
   "source": [
    "## 必要なデータ\n",
    "- id\n",
    "    - A_W_YYMMDDのNo.(0列目)\n",
    "    - SH_171116のid(0列目)\n",
    "    - 斉藤2015の発言番号(0列目)\n",
    "- reply\n",
    "    - A_W_YYMMDDの返信元(1列目)\n",
    "    - SH_171116のreply(3列目)\n",
    "    - 斉藤2015の返信元(1列目)\n",
    "- group\n",
    "    - A_W_YYMMDDのgid(6列目)\n",
    "    - SH_171116のgid(5列目)\n",
    "    - 斉藤2015のグループ番号(6列目)\n",
    "- who\n",
    "    - A_W_YYMMDDのニックネーム(8列目)\n",
    "    - SH_171116のcname(6列目)\n",
    "    - 斉藤2015のニックネーム(8列目)\n",
    "- body\n",
    "    - A_W_YYMMDDの発言内容(11列目)\n",
    "    - SH_171116のbody(8列目)\n",
    "    - 斉藤2015の発言内容(11列目)\n",
    "- argumentation_a\n",
    "    - A_W_YYMMDDのArgumentation(A)(22列目)\n",
    "    - SH_171116のArgumentation(H)(17列目)\n",
    "- argumentation_b\n",
    "    - A_W_YYMMDDのWatanabe.2(23列目)\n",
    "    - SH_171116のArgumentation(S)(18列目)\n",
    "    \n",
    "    \n",
    "    \n",
    "## 各dfで必要な列\n",
    "- A_W_YYMMDD[0, 1, 6, 8, 11, 22, 23]\n",
    "- SH_171116[0, 3, 5, 6, 8, 17, 18]\n",
    "- 斉藤2015[0, 1, 6, 8, 11]"
   ]
  },
  {
   "cell_type": "code",
   "execution_count": 3,
   "metadata": {},
   "outputs": [],
   "source": [
    "A_W_YYMMDD_use = [0, 1, 6, 8, 11, 22, 23]\n",
    "S_H_171116_use = [0, 3, 5, 6, 8, 17, 18]\n",
    "S_2015_use = [0, 1, 6, 8, 11]"
   ]
  },
  {
   "cell_type": "code",
   "execution_count": 4,
   "metadata": {},
   "outputs": [],
   "source": [
    "# A_W_YYMMDDの列名の統合\n",
    "A_W_171116_df.columns = A_W_171128_df.columns\n",
    "\n",
    "delete_columns_list = []\n",
    "for i, column in enumerate(A_W_171116_df):\n",
    "    if not i in A_W_YYMMDD_use:\n",
    "        delete_columns_list.append(column)\n",
    "        \n",
    "A_W_171116_df = A_W_171116_df.drop(delete_columns_list, axis=1)\n",
    "A_W_171128_df = A_W_171128_df.drop(delete_columns_list, axis=1)\n",
    "\n",
    "delete_columns_list = []\n",
    "for i, column in enumerate(S_H_171116_df):\n",
    "    if not i in S_H_171116_use:\n",
    "        delete_columns_list.append(column)\n",
    "S_H_171116_df = S_H_171116_df.drop(delete_columns_list, axis=1)\n",
    "\n",
    "delete_columns_list = []\n",
    "for i, column in enumerate(S_2015_df):\n",
    "    if not i in S_2015_use:\n",
    "        delete_columns_list.append(column)\n",
    "S_2015_df = S_2015_df.drop(delete_columns_list, axis=1)"
   ]
  },
  {
   "cell_type": "code",
   "execution_count": 5,
   "metadata": {},
   "outputs": [
    {
     "name": "stdout",
     "output_type": "stream",
     "text": [
      "True\n",
      "True\n",
      "True\n"
     ]
    }
   ],
   "source": [
    "print(not False in S_H_171116_df['id'].values == S_2015_df['発言番号'].values)\n",
    "print(not False in S_H_171116_df['cname'].values == S_2015_df['ニックネーム'].values)\n",
    "print(not False in S_H_171116_df['body'].values == S_2015_df['発言内容'].values)"
   ]
  },
  {
   "cell_type": "code",
   "execution_count": 6,
   "metadata": {},
   "outputs": [],
   "source": [
    "S_H_171116_df[\"reply\"] = S_2015_df['返信元']\n",
    "S_H_171116_df[\"gid\"] = S_2015_df['グループ番号']\n",
    "concat_border = 299\n",
    "A_W_171116_df = A_W_171116_df[0:concat_border]\n",
    "A_W_171128_df = A_W_171128_df[concat_border:]\n",
    "A_W_df = pd.concat([A_W_171116_df, A_W_171128_df])"
   ]
  },
  {
   "cell_type": "code",
   "execution_count": 7,
   "metadata": {},
   "outputs": [
    {
     "data": {
      "text/plain": [
       "No.                   3\n",
       "返信元                   3\n",
       "gid                   3\n",
       "ニックネーム                3\n",
       "発言内容                  3\n",
       "Argumentation(A)    113\n",
       "Watanabe.2          212\n",
       "dtype: int64"
      ]
     },
     "execution_count": 7,
     "metadata": {},
     "output_type": "execute_result"
    }
   ],
   "source": [
    "# 要素含まれるNanの数を確認\n",
    "A_W_df.isnull().sum()"
   ]
  },
  {
   "cell_type": "markdown",
   "metadata": {},
   "source": [
    "# 重要！！"
   ]
  },
  {
   "cell_type": "code",
   "execution_count": 8,
   "metadata": {},
   "outputs": [
    {
     "data": {
      "text/plain": [
       "No.                 False\n",
       "返信元                 False\n",
       "gid                 False\n",
       "ニックネーム              False\n",
       "発言内容                False\n",
       "Argumentation(A)    False\n",
       "Watanabe.2          False\n",
       "dtype: bool"
      ]
     },
     "execution_count": 8,
     "metadata": {},
     "output_type": "execute_result"
    }
   ],
   "source": [
    "# A_W_dfの人間が付けたラベル列のNanを取り除く\n",
    "A_W_df = A_W_df.dropna(subset=['Argumentation(A)', 'Watanabe.2'])\n",
    "# 要素にNanが含まれる列を再確認\n",
    "A_W_df.isnull().any()"
   ]
  },
  {
   "cell_type": "code",
   "execution_count": 9,
   "metadata": {},
   "outputs": [
    {
     "data": {
      "text/plain": [
       "id                    0\n",
       "reply                 0\n",
       "gid                   0\n",
       "cname                 0\n",
       "body                  0\n",
       "Argumentation(H)    189\n",
       "Argumentation(S)    225\n",
       "dtype: int64"
      ]
     },
     "execution_count": 9,
     "metadata": {},
     "output_type": "execute_result"
    }
   ],
   "source": [
    "# 要素に含まれるNanの数を確認\n",
    "S_H_171116_df.isnull().sum()"
   ]
  },
  {
   "cell_type": "markdown",
   "metadata": {},
   "source": [
    "# 重要！！"
   ]
  },
  {
   "cell_type": "code",
   "execution_count": 10,
   "metadata": {},
   "outputs": [
    {
     "data": {
      "text/plain": [
       "id                  False\n",
       "reply               False\n",
       "gid                 False\n",
       "cname               False\n",
       "body                False\n",
       "Argumentation(H)    False\n",
       "Argumentation(S)    False\n",
       "dtype: bool"
      ]
     },
     "execution_count": 10,
     "metadata": {},
     "output_type": "execute_result"
    }
   ],
   "source": [
    "# S_H_171116_dfの人間が付けたラベル列のNanを取り除く\n",
    "S_H_171116_df = S_H_171116_df.dropna(subset=['Argumentation(H)', 'Argumentation(S)'])\n",
    "# 要素にNanが含まれる列を再確認\n",
    "S_H_171116_df.isnull().any()"
   ]
  },
  {
   "cell_type": "markdown",
   "metadata": {},
   "source": [
    "# 重要！！"
   ]
  },
  {
   "cell_type": "code",
   "execution_count": 11,
   "metadata": {},
   "outputs": [
    {
     "data": {
      "text/plain": [
       "Counter({'Grounded Claim': 349,\n",
       "         'Grounded and Qualified claim': 20,\n",
       "         'Grounded claim': 57,\n",
       "         'Non-argumentative moves': 3851,\n",
       "         'Qualified Claim': 79,\n",
       "         'Qualified claim': 14,\n",
       "         'Simple Claim': 2134,\n",
       "         'Simple claim': 337,\n",
       "         'grounded and qualified claim': 2,\n",
       "         'grounded claim': 96,\n",
       "         'non-argumentative moves': 1174,\n",
       "         'qualified claim': 17,\n",
       "         'simple claim': 696})"
      ]
     },
     "execution_count": 11,
     "metadata": {},
     "output_type": "execute_result"
    }
   ],
   "source": [
    "A_W_df = A_W_df.drop_duplicates(subset=['ニックネーム', '発言内容'])\n",
    "S_H_171116_df = S_H_171116_df.drop_duplicates(subset=['cname', 'body'])\n",
    "\n",
    "Counter(A_W_df[\"Argumentation(A)\"])+Counter(A_W_df[\"Watanabe.2\"])"
   ]
  },
  {
   "cell_type": "markdown",
   "metadata": {},
   "source": [
    "# 重要！！"
   ]
  },
  {
   "cell_type": "code",
   "execution_count": 12,
   "metadata": {},
   "outputs": [
    {
     "data": {
      "text/plain": [
       "Counter({'grounded and qualified claim': 22,\n",
       "         'grounded claim': 502,\n",
       "         'non-argumentative moves': 5025,\n",
       "         'qualified claim': 110,\n",
       "         'simple claim': 3167})"
      ]
     },
     "execution_count": 12,
     "metadata": {},
     "output_type": "execute_result"
    }
   ],
   "source": [
    "# 表記ゆれの修正と確認\n",
    "A_W_df['Argumentation(A)'] = A_W_df['Argumentation(A)'].str.lower()\n",
    "counter1 = Counter(A_W_df['Argumentation(A)'])\n",
    "A_W_df['Watanabe.2'] = A_W_df['Watanabe.2'].str.lower()\n",
    "counter2 = Counter(A_W_df['Watanabe.2'])\n",
    "counter1 + counter2"
   ]
  },
  {
   "cell_type": "markdown",
   "metadata": {},
   "source": [
    "# 重要！！"
   ]
  },
  {
   "cell_type": "code",
   "execution_count": 13,
   "metadata": {},
   "outputs": [
    {
     "data": {
      "text/plain": [
       "Counter({'Grounded Claim': 236,\n",
       "         'Grounded and Qualified claim': 15,\n",
       "         'Grounded claim': 114,\n",
       "         'Non-argumentative moves': 5579,\n",
       "         'Qualified Claim': 47,\n",
       "         'Qualified claim': 22,\n",
       "         'Simple Claim': 2472,\n",
       "         'Simple claim': 855})"
      ]
     },
     "execution_count": 13,
     "metadata": {},
     "output_type": "execute_result"
    }
   ],
   "source": [
    "Counter(S_H_171116_df[\"Argumentation(S)\"])+Counter(S_H_171116_df[\"Argumentation(H)\"])"
   ]
  },
  {
   "cell_type": "markdown",
   "metadata": {},
   "source": [
    "# 重要！！"
   ]
  },
  {
   "cell_type": "code",
   "execution_count": 14,
   "metadata": {},
   "outputs": [
    {
     "data": {
      "text/plain": [
       "Counter({'grounded and qualified claim': 15,\n",
       "         'grounded claim': 350,\n",
       "         'non-argumentative moves': 5579,\n",
       "         'qualified claim': 69,\n",
       "         'simple claim': 3327})"
      ]
     },
     "execution_count": 14,
     "metadata": {},
     "output_type": "execute_result"
    }
   ],
   "source": [
    "# 表記ゆれの確認\n",
    "S_H_171116_df['Argumentation(S)'] = S_H_171116_df['Argumentation(S)'].str.lower()\n",
    "counter1 = Counter(S_H_171116_df['Argumentation(S)'])\n",
    "S_H_171116_df['Argumentation(H)'] = S_H_171116_df['Argumentation(H)'].str.lower()\n",
    "counter2 = Counter(S_H_171116_df['Argumentation(H)'])\n",
    "counter1 + counter2"
   ]
  },
  {
   "cell_type": "markdown",
   "metadata": {},
   "source": [
    "# 重要！！"
   ]
  },
  {
   "cell_type": "code",
   "execution_count": 15,
   "metadata": {},
   "outputs": [
    {
     "data": {
      "text/html": [
       "<div>\n",
       "<style scoped>\n",
       "    .dataframe tbody tr th:only-of-type {\n",
       "        vertical-align: middle;\n",
       "    }\n",
       "\n",
       "    .dataframe tbody tr th {\n",
       "        vertical-align: top;\n",
       "    }\n",
       "\n",
       "    .dataframe thead th {\n",
       "        text-align: right;\n",
       "    }\n",
       "</style>\n",
       "<table border=\"1\" class=\"dataframe\">\n",
       "  <thead>\n",
       "    <tr style=\"text-align: right;\">\n",
       "      <th></th>\n",
       "      <th>No.</th>\n",
       "      <th>返信元</th>\n",
       "      <th>gid</th>\n",
       "      <th>ニックネーム</th>\n",
       "      <th>発言内容</th>\n",
       "      <th>Argumentation(A)</th>\n",
       "      <th>Watanabe.2</th>\n",
       "    </tr>\n",
       "  </thead>\n",
       "  <tbody>\n",
       "    <tr>\n",
       "      <th>0</th>\n",
       "      <td>1.0</td>\n",
       "      <td>\\N</td>\n",
       "      <td>1.0</td>\n",
       "      <td>まこぴす</td>\n",
       "      <td>よろしくお願いします！</td>\n",
       "      <td>non-argumentative moves</td>\n",
       "      <td>non-argumentative moves</td>\n",
       "    </tr>\n",
       "    <tr>\n",
       "      <th>1</th>\n",
       "      <td>31.0</td>\n",
       "      <td>\\N</td>\n",
       "      <td>1.0</td>\n",
       "      <td>哲</td>\n",
       "      <td>よろしくお願いします</td>\n",
       "      <td>non-argumentative moves</td>\n",
       "      <td>non-argumentative moves</td>\n",
       "    </tr>\n",
       "    <tr>\n",
       "      <th>2</th>\n",
       "      <td>70.0</td>\n",
       "      <td>\\N</td>\n",
       "      <td>1.0</td>\n",
       "      <td>仙波</td>\n",
       "      <td>名前なのが恥ずかしいです…\\n\\nよろしくお願いします！</td>\n",
       "      <td>non-argumentative moves</td>\n",
       "      <td>non-argumentative moves</td>\n",
       "    </tr>\n",
       "    <tr>\n",
       "      <th>3</th>\n",
       "      <td>119.0</td>\n",
       "      <td>\\N</td>\n",
       "      <td>1.0</td>\n",
       "      <td>まこぴす</td>\n",
       "      <td>早速課題やっちゃいましょう！</td>\n",
       "      <td>non-argumentative moves</td>\n",
       "      <td>non-argumentative moves</td>\n",
       "    </tr>\n",
       "    <tr>\n",
       "      <th>4</th>\n",
       "      <td>163.0</td>\n",
       "      <td>\\N</td>\n",
       "      <td>1.0</td>\n",
       "      <td>仙波</td>\n",
       "      <td>やっちゃいましょう\\n\\nmoodleはゴミです！</td>\n",
       "      <td>simple claim</td>\n",
       "      <td>simple claim</td>\n",
       "    </tr>\n",
       "  </tbody>\n",
       "</table>\n",
       "</div>"
      ],
      "text/plain": [
       "     No. 返信元  gid ニックネーム                          発言内容  \\\n",
       "0    1.0  \\N  1.0   まこぴす                   よろしくお願いします！   \n",
       "1   31.0  \\N  1.0      哲                    よろしくお願いします   \n",
       "2   70.0  \\N  1.0     仙波  名前なのが恥ずかしいです…\\n\\nよろしくお願いします！   \n",
       "3  119.0  \\N  1.0   まこぴす                早速課題やっちゃいましょう！   \n",
       "4  163.0  \\N  1.0     仙波     やっちゃいましょう\\n\\nmoodleはゴミです！   \n",
       "\n",
       "          Argumentation(A)               Watanabe.2  \n",
       "0  non-argumentative moves  non-argumentative moves  \n",
       "1  non-argumentative moves  non-argumentative moves  \n",
       "2  non-argumentative moves  non-argumentative moves  \n",
       "3  non-argumentative moves  non-argumentative moves  \n",
       "4             simple claim             simple claim  "
      ]
     },
     "execution_count": 15,
     "metadata": {},
     "output_type": "execute_result"
    }
   ],
   "source": [
    "A_W_match_df = A_W_df[A_W_df['Argumentation(A)'] == A_W_df['Watanabe.2']].reset_index(drop=True)\n",
    "A_W_match_df.head()"
   ]
  },
  {
   "cell_type": "markdown",
   "metadata": {},
   "source": [
    "# 重要！！"
   ]
  },
  {
   "cell_type": "code",
   "execution_count": 16,
   "metadata": {},
   "outputs": [
    {
     "data": {
      "text/html": [
       "<div>\n",
       "<style scoped>\n",
       "    .dataframe tbody tr th:only-of-type {\n",
       "        vertical-align: middle;\n",
       "    }\n",
       "\n",
       "    .dataframe tbody tr th {\n",
       "        vertical-align: top;\n",
       "    }\n",
       "\n",
       "    .dataframe thead th {\n",
       "        text-align: right;\n",
       "    }\n",
       "</style>\n",
       "<table border=\"1\" class=\"dataframe\">\n",
       "  <thead>\n",
       "    <tr style=\"text-align: right;\">\n",
       "      <th></th>\n",
       "      <th>id</th>\n",
       "      <th>reply</th>\n",
       "      <th>gid</th>\n",
       "      <th>cname</th>\n",
       "      <th>body</th>\n",
       "      <th>Argumentation(H)</th>\n",
       "      <th>Argumentation(S)</th>\n",
       "    </tr>\n",
       "  </thead>\n",
       "  <tbody>\n",
       "    <tr>\n",
       "      <th>0</th>\n",
       "      <td>1593</td>\n",
       "      <td>\\N</td>\n",
       "      <td>1</td>\n",
       "      <td>世界のわたべ</td>\n",
       "      <td>よろしくお願いします。</td>\n",
       "      <td>non-argumentative moves</td>\n",
       "      <td>non-argumentative moves</td>\n",
       "    </tr>\n",
       "    <tr>\n",
       "      <th>1</th>\n",
       "      <td>1598</td>\n",
       "      <td>\\N</td>\n",
       "      <td>1</td>\n",
       "      <td>ざきさん</td>\n",
       "      <td>よろしくです</td>\n",
       "      <td>non-argumentative moves</td>\n",
       "      <td>non-argumentative moves</td>\n",
       "    </tr>\n",
       "    <tr>\n",
       "      <th>2</th>\n",
       "      <td>1606</td>\n",
       "      <td>\\N</td>\n",
       "      <td>1</td>\n",
       "      <td>あ</td>\n",
       "      <td>よろしくです</td>\n",
       "      <td>non-argumentative moves</td>\n",
       "      <td>non-argumentative moves</td>\n",
       "    </tr>\n",
       "    <tr>\n",
       "      <th>3</th>\n",
       "      <td>1659</td>\n",
       "      <td>\\N</td>\n",
       "      <td>1</td>\n",
       "      <td>ざきさん</td>\n",
       "      <td>みなさんファイルをアップしましたか？</td>\n",
       "      <td>non-argumentative moves</td>\n",
       "      <td>non-argumentative moves</td>\n",
       "    </tr>\n",
       "    <tr>\n",
       "      <th>4</th>\n",
       "      <td>1683</td>\n",
       "      <td>\\N</td>\n",
       "      <td>1</td>\n",
       "      <td>あ</td>\n",
       "      <td>今アップしました！</td>\n",
       "      <td>non-argumentative moves</td>\n",
       "      <td>non-argumentative moves</td>\n",
       "    </tr>\n",
       "  </tbody>\n",
       "</table>\n",
       "</div>"
      ],
      "text/plain": [
       "     id reply  gid   cname                body         Argumentation(H)  \\\n",
       "0  1593    \\N    1  世界のわたべ         よろしくお願いします。  non-argumentative moves   \n",
       "1  1598    \\N    1    ざきさん              よろしくです  non-argumentative moves   \n",
       "2  1606    \\N    1       あ              よろしくです  non-argumentative moves   \n",
       "3  1659    \\N    1    ざきさん  みなさんファイルをアップしましたか？  non-argumentative moves   \n",
       "4  1683    \\N    1       あ           今アップしました！  non-argumentative moves   \n",
       "\n",
       "          Argumentation(S)  \n",
       "0  non-argumentative moves  \n",
       "1  non-argumentative moves  \n",
       "2  non-argumentative moves  \n",
       "3  non-argumentative moves  \n",
       "4  non-argumentative moves  "
      ]
     },
     "execution_count": 16,
     "metadata": {},
     "output_type": "execute_result"
    }
   ],
   "source": [
    "S_H_match_df = S_H_171116_df[S_H_171116_df['Argumentation(H)'] == S_H_171116_df['Argumentation(S)']].reset_index(drop=True)\n",
    "S_H_match_df.head()"
   ]
  },
  {
   "cell_type": "code",
   "execution_count": 17,
   "metadata": {},
   "outputs": [
    {
     "data": {
      "text/plain": [
       "No.                 0\n",
       "返信元                 0\n",
       "gid                 0\n",
       "ニックネーム              0\n",
       "発言内容                0\n",
       "Argumentation(A)    0\n",
       "Watanabe.2          0\n",
       "dtype: int64"
      ]
     },
     "execution_count": 17,
     "metadata": {},
     "output_type": "execute_result"
    }
   ],
   "source": [
    "A_W_match_df.isnull().sum()"
   ]
  },
  {
   "cell_type": "code",
   "execution_count": 18,
   "metadata": {},
   "outputs": [
    {
     "data": {
      "text/plain": [
       "id                  0\n",
       "reply               0\n",
       "gid                 0\n",
       "cname               0\n",
       "body                0\n",
       "Argumentation(H)    0\n",
       "Argumentation(S)    0\n",
       "dtype: int64"
      ]
     },
     "execution_count": 18,
     "metadata": {},
     "output_type": "execute_result"
    }
   ],
   "source": [
    "S_H_match_df.isnull().sum()"
   ]
  },
  {
   "cell_type": "markdown",
   "metadata": {},
   "source": [
    "# 重要！！"
   ]
  },
  {
   "cell_type": "code",
   "execution_count": 19,
   "metadata": {},
   "outputs": [
    {
     "name": "stdout",
     "output_type": "stream",
     "text": [
      "(4413, 7)\n",
      "(4670, 7)\n",
      "(9083, 7)\n",
      "(7765, 7)\n"
     ]
    }
   ],
   "source": [
    "header = ['id', 'reply', 'group_id', 'cname', 'body', 'Argumentation_A', 'Argumentation_B']\n",
    "A_W_df.columns = header\n",
    "S_H_171116_df.columns = header\n",
    "A_W_match_df.columns = header\n",
    "S_H_match_df.columns = header\n",
    "All_df = pd.concat([A_W_df, S_H_171116_df], ignore_index=True)\n",
    "match_df = pd.concat([A_W_match_df, S_H_match_df], ignore_index=True)\n",
    "\n",
    "print(A_W_df.shape)\n",
    "print(S_H_171116_df.shape)\n",
    "print(All_df.shape)\n",
    "print(match_df.shape)"
   ]
  },
  {
   "cell_type": "code",
   "execution_count": 20,
   "metadata": {},
   "outputs": [
    {
     "name": "stdout",
     "output_type": "stream",
     "text": [
      "{'cname': 3, 'group_id': 2, 'reply': 1, 'body': 4, 'label': 5, 'id': 0}\n",
      "{'Argumentation_B': 6, 'Argumentation_A': 5, 'cname': 3, 'group_id': 2, 'reply': 1, 'body': 4, 'id': 0}\n"
     ]
    }
   ],
   "source": [
    "# データの形式の定義\n",
    "data_format = ['id', 'reply', 'group_id', 'cname', 'body', 'label']\n",
    "# 名前からデータのindexに変換する辞書\n",
    "data_index = {column : i for i, column in enumerate(data_format)}\n",
    "print(data_index)\n",
    "\n",
    "id = 0\n",
    "reply = 1\n",
    "group_id = 2\n",
    "cname = 3\n",
    "body = 4\n",
    "label = 5\n",
    "\n",
    "df_index = {column: i for i, column in enumerate(All_df)}\n",
    "print(df_index)"
   ]
  },
  {
   "cell_type": "markdown",
   "metadata": {},
   "source": [
    "# ＊＊＊重要！！"
   ]
  },
  {
   "cell_type": "code",
   "execution_count": 21,
   "metadata": {},
   "outputs": [
    {
     "name": "stdout",
     "output_type": "stream",
     "text": [
      "[0, 1, 2, 3, 4, 6]\n"
     ]
    }
   ],
   "source": [
    "df_use = [0, 1, 2, 3, 4]\n",
    "# All_df_index['ラベル名']を変更して取り出すラベルを分ける\n",
    "# label_position = df_index['Argumentation_A']\n",
    "# label_position = df_index['Argumentation_B']\n",
    "label_position = df_index['Argumentation_B']\n",
    "df_use.append(label_position)\n",
    "print(df_use)\n",
    "\n",
    "delete_columns_list = []\n",
    "# for i, column in enumerate(All_df):\n",
    "for i, column in enumerate(match_df):\n",
    "    if not i in df_use:\n",
    "        delete_columns_list.append(column)\n",
    "# input_df = All_df.drop(delete_columns_list, axis=1)\n",
    "input_df = match_df.drop(delete_columns_list, axis=1)\n",
    "# input_df = A_W_consulted_df.drop(delete_columns_list, axis=1)\n",
    "input_df.columns = data_format"
   ]
  },
  {
   "cell_type": "code",
   "execution_count": 22,
   "metadata": {},
   "outputs": [
    {
     "name": "stdout",
     "output_type": "stream",
     "text": [
      "Counter({'non-argumentative moves': 4899, 'simple claim': 2622, 'grounded claim': 228, 'qualified claim': 13, 'grounded and qualified claim': 3})\n"
     ]
    }
   ],
   "source": [
    "counter = Counter(input_df['label'])\n",
    "print(counter)\n",
    "input_data = input_df.values"
   ]
  },
  {
   "cell_type": "code",
   "execution_count": 23,
   "metadata": {},
   "outputs": [
    {
     "data": {
      "text/plain": [
       "(7765, 6)"
      ]
     },
     "execution_count": 23,
     "metadata": {},
     "output_type": "execute_result"
    }
   ],
   "source": [
    "input_df.shape"
   ]
  },
  {
   "cell_type": "code",
   "execution_count": null,
   "metadata": {},
   "outputs": [],
   "source": []
  },
  {
   "cell_type": "code",
   "execution_count": null,
   "metadata": {},
   "outputs": [],
   "source": []
  },
  {
   "cell_type": "code",
   "execution_count": null,
   "metadata": {},
   "outputs": [],
   "source": []
  },
  {
   "cell_type": "code",
   "execution_count": 24,
   "metadata": {},
   "outputs": [],
   "source": [
    "def preprocess(xs, trim_citation=False):\n",
    "    zs = [\"\"] * len(xs)\n",
    "    '''全角空白'''\n",
    "    for i, l in enumerate(xs):\n",
    "        xs[i] = re.sub('　', ' ', str(l))\n",
    "    '''多重引用'''\n",
    "    for i, l in enumerate(xs):\n",
    "        xs[i] = re.sub('＆ｇｔ；', '＞', l)\n",
    "    '''引用部分は除外'''\n",
    "    count_refer = 0\n",
    "    for i, l in enumerate(xs):\n",
    "        sen = \"\"\n",
    "        have_refer = 1\n",
    "        for x in l.split('\\n'):\n",
    "            if len(x) == 0:\n",
    "                continue\n",
    "            elif x[0].encode('utf-8') == '＞'.encode('utf-8'):\n",
    "                have_refer = 1\n",
    "                x = x[1:]\n",
    "                if len(x) > 0 and x[0].encode('utf-8') != '＞'.encode('utf-8') and \\\n",
    "                        x[0:2].encode('utf-8') != ' ＞'.encode('utf-8') and x != ' ':\n",
    "                    if trim_citation:\n",
    "                        zs[i] += x + '\\n'\n",
    "                    else:\n",
    "                        sen = sen + \"＞ \" + x + '\\n'\n",
    "                continue\n",
    "            else:\n",
    "                sen = sen + x + '\\n'\n",
    "        xs[i] = sen.strip()\n",
    "        count_refer += have_refer\n",
    "    '''顔文字'''\n",
    "    pat = re.compile('（[^ぁ-んァ-ン一-龠]+?）', re.U)\n",
    "    for i, l in enumerate(xs):\n",
    "        xs[i] = re.sub(pat, ' KAOMOJI ', l)\n",
    "    '''日本語及び記号{？！ー〜。、} のみ有効'''\n",
    "    pat = re.compile('[^＞ Ａ-Ｚａ-ｚ０-９ぁ-んァ-ン一-龠？！ー〜。、\\n]+?', re.U)\n",
    "    for i, l in enumerate(xs):\n",
    "        xs[i] = re.sub(pat, '', l)\n",
    "    '''記号繰り返し'''\n",
    "    pat_1 = re.compile('[ｗ]{1,}', re.U)\n",
    "    pat_2 = re.compile('[？]{1,}', re.U)\n",
    "    pat_3 = re.compile('[！]{1,}', re.U)\n",
    "    pat_4 = re.compile('[～]{1,}', re.U)\n",
    "    pat_5 = re.compile('[ー]{1,}', re.U)\n",
    "    pat_6 = re.compile('[。]{1,}', re.U)\n",
    "\n",
    "    for i, l in enumerate(xs):\n",
    "        l = re.sub(pat_1, 'ｗ', l)\n",
    "        l = re.sub(pat_2, '？', l)\n",
    "        l = re.sub(pat_3, '！', l)\n",
    "        l = re.sub(pat_4, '～', l)\n",
    "        l = re.sub(pat_5, 'ー', l)\n",
    "        l = re.sub(pat_6, '。', l)\n",
    "        xs[i] = l\n",
    "\n",
    "    if trim_citation:\n",
    "        return zs\n",
    "    else:\n",
    "        return None"
   ]
  },
  {
   "cell_type": "code",
   "execution_count": 25,
   "metadata": {},
   "outputs": [],
   "source": [
    "def make_xs(orig, trim_citation=False, use_seq2seq=False):\n",
    "\n",
    "    tmp = np.copy(orig)\n",
    "    xs = tmp[:, body]\n",
    "    zs = preprocess(xs, trim_citation=(trim_citation or use_seq2seq))\n",
    "\n",
    "    if use_seq2seq:\n",
    "        tmp_prev = np.roll(tmp, 1, axis=0)\n",
    "        tmp_prev[0, 0] = \"\"\n",
    "        ts = tmp[:, [1, 2]]\n",
    "        xs_prev = tmp_prev[:, body]\n",
    "\n",
    "        for i in range(len(tmp)):\n",
    "            if tmp[i, group_id] != tmp_prev[i, group_id]:  # group が異なる\n",
    "                xs_prev[i] = \"\"\n",
    "        preprocess(xs_prev, trim_citation=True)\n",
    "\n",
    "        for i in range(len(xs)):\n",
    "            replay_to = tmp[i, 2]\n",
    "            if zs[i] != \"\":\n",
    "                xs_prev[i] = zs[i]\n",
    "            elif replay_to != -1:\n",
    "                a = xs[:i][tmp[:i, 1] == replay_to]\n",
    "                if len(a) != 0:\n",
    "                    xs_prev[i] = a[-1]\n",
    "\n",
    "        return xs, xs_prev\n",
    "    else:\n",
    "        return xs"
   ]
  },
  {
   "cell_type": "code",
   "execution_count": 26,
   "metadata": {},
   "outputs": [],
   "source": [
    "def get_doc(xs):\n",
    "    doc = []\n",
    "    for ll in xs:\n",
    "        sen = []\n",
    "        for l in ll.split('\\n'):\n",
    "            for w in mc.parse(l).split('\\n'):\n",
    "                mx = w.split('\\t')\n",
    "                if len(mx[0]) > 0:\n",
    "                    sen.append(mx[0])\n",
    "        doc.append(sen)\n",
    "    return doc"
   ]
  },
  {
   "cell_type": "code",
   "execution_count": 27,
   "metadata": {},
   "outputs": [
    {
     "name": "stdout",
     "output_type": "stream",
     "text": [
      "よろしく お願い し ます ！ EOS\n",
      "よろしく お願い し ます EOS\n",
      "名前 な の が 恥ずかしい です EOS よろしく お願い し ます ！ EOS\n",
      "早速 課題 やっ ちゃ い ましょ う ！ EOS\n",
      "やっ ちゃ い ましょ う EOS は ゴミ です ！ EOS\n",
      "使い にくい です 笑 EOS\n",
      "同意 です EOS\n",
      "以前 インタラクティブ アート 受講 し て い た の です が 、 その 時 に 課題 が 不具合 で 出せ なく なっ て い た 時期 が あり まし て EOS 本当に もろい です EOS\n",
      "学習 環境 として 必要 最低限 の 機能 は 備え て いる と 思う が 、 操作 性 の 面 で は の 最低限 の 知識 が ある こと が 前提 な ので 誰 も が 利用 できる と は 言え ない 。 また から だ と 見 やすい レイアウト も スマフォ から だ と 見 にくい と 感じ た 。 EOS\n",
      "ほぼ ほぼ 同意 です EOS\n"
     ]
    }
   ],
   "source": [
    "xs, xs_pre = make_xs(input_data, trim_citation=True, use_seq2seq=True)\n",
    "doc = get_doc(xs)\n",
    "doc_pre = get_doc(xs_pre)\n",
    "for i in doc[:10]:\n",
    "    print(\" \".join(i))"
   ]
  },
  {
   "cell_type": "code",
   "execution_count": 28,
   "metadata": {},
   "outputs": [
    {
     "name": "stdout",
     "output_type": "stream",
     "text": [
      "EOS 23625\n",
      "の 8427\n",
      "て 6194\n",
      "です 6041\n",
      "か 5986\n",
      "ます 5963\n",
      "に 5544\n",
      "た 5479\n",
      "が 5296\n",
      "、 5252\n"
     ]
    }
   ],
   "source": [
    "wd_set = Counter([x for sen in doc + doc_pre for x in sen])\n",
    "wd_ary = np.array(list(wd_set.keys()))\n",
    "wd_cnt = np.array(list(wd_set.values()))\n",
    "wd_ary = wd_ary[np.argsort(wd_cnt)[::-1]]\n",
    "wd_cnt.sort()\n",
    "wd_cnt = wd_cnt[::-1]\n",
    "wd_to_id = {wd: i for i, wd in enumerate(wd_ary)}\n",
    "lb_to_id = {lb: i for i, lb in enumerate({x for x in input_data[:, label]})}\n",
    "id_to_wd = {wd_to_id[wd]: wd for wd in wd_to_id.keys()}\n",
    "id_to_lb = {lb_to_id[lb]: lb for lb in lb_to_id.keys()}\n",
    "for i in range(10):\n",
    "    print(list(wd_ary)[i], list(wd_cnt)[i])\n",
    "    #print(list(wd_set.keys())[i], list(wd_set.values())[i])"
   ]
  },
  {
   "cell_type": "markdown",
   "metadata": {},
   "source": [
    "# ＊＊＊重要！！"
   ]
  },
  {
   "cell_type": "code",
   "execution_count": 29,
   "metadata": {},
   "outputs": [
    {
     "name": "stdout",
     "output_type": "stream",
     "text": [
      "words kinds: 5045 words>=2: 4985\n",
      "all words num: 264985\n",
      "all words num: 264925\n",
      "4985\n",
      "4985\n"
     ]
    },
    {
     "data": {
      "text/html": [
       "<div>\n",
       "<style scoped>\n",
       "    .dataframe tbody tr th:only-of-type {\n",
       "        vertical-align: middle;\n",
       "    }\n",
       "\n",
       "    .dataframe tbody tr th {\n",
       "        vertical-align: top;\n",
       "    }\n",
       "\n",
       "    .dataframe thead th {\n",
       "        text-align: right;\n",
       "    }\n",
       "</style>\n",
       "<table border=\"1\" class=\"dataframe\">\n",
       "  <thead>\n",
       "    <tr style=\"text-align: right;\">\n",
       "      <th></th>\n",
       "      <th>0</th>\n",
       "      <th>1</th>\n",
       "      <th>2</th>\n",
       "      <th>3</th>\n",
       "      <th>4</th>\n",
       "    </tr>\n",
       "  </thead>\n",
       "  <tbody>\n",
       "    <tr>\n",
       "      <th>ラベルid</th>\n",
       "      <td>0</td>\n",
       "      <td>1</td>\n",
       "      <td>2</td>\n",
       "      <td>3</td>\n",
       "      <td>4</td>\n",
       "    </tr>\n",
       "    <tr>\n",
       "      <th>ラベルname</th>\n",
       "      <td>grounded and qualified claim</td>\n",
       "      <td>grounded claim</td>\n",
       "      <td>non-argumentative moves</td>\n",
       "      <td>simple claim</td>\n",
       "      <td>qualified claim</td>\n",
       "    </tr>\n",
       "  </tbody>\n",
       "</table>\n",
       "</div>"
      ],
      "text/plain": [
       "                                    0               1  \\\n",
       "ラベルid                               0               1   \n",
       "ラベルname  grounded and qualified claim  grounded claim   \n",
       "\n",
       "                               2             3                4  \n",
       "ラベルid                          2             3                4  \n",
       "ラベルname  non-argumentative moves  simple claim  qualified claim  "
      ]
     },
     "execution_count": 29,
     "metadata": {},
     "output_type": "execute_result"
    }
   ],
   "source": [
    "KIND = len(list(lb_to_id.keys()))\n",
    "CUT_OFF = 2\n",
    "\n",
    "print(\"words kinds:\",\n",
    "      len(wd_cnt), \"words>=\" + str(CUT_OFF) + \":\", np.sum(wd_cnt >= CUT_OFF))\n",
    "print(\"all words num:\", np.sum(wd_cnt))\n",
    "print(\"all words num:\", np.sum(wd_cnt[wd_cnt >= CUT_OFF]))\n",
    "\n",
    "other_id = np.sum(wd_cnt >= CUT_OFF)\n",
    "wd_to_id.update({wd: other_id for wd in wd_ary[wd_cnt < CUT_OFF]})\n",
    "print(other_id)\n",
    "id_to_wd[other_id] = '[X]'\n",
    "\n",
    "print(max(wd_to_id.values()))\n",
    "\n",
    "with open('data/Argumentation_FA_id_to_wd.pickle', mode='wb') as f:\n",
    "    pickle.dump(id_to_wd, f)\n",
    "with open('data/Argumentation_FA_wd_to_id.pickle', mode='wb') as f:\n",
    "    pickle.dump(wd_to_id, f)\n",
    "with open('data/Argumentation_FA_wd_set.pickle', mode='wb') as f:\n",
    "    pickle.dump(wd_set, f)\n",
    "with open('data/Argumentation_FA_id_to_lb.pickle', mode='wb') as f:\n",
    "    pickle.dump(id_to_lb, f)\n",
    "pd.DataFrame(\n",
    "    np.array(list(id_to_lb.items())).T, index=[\"ラベルid\", \"ラベルname\"])"
   ]
  },
  {
   "cell_type": "code",
   "execution_count": 30,
   "metadata": {},
   "outputs": [
    {
     "name": "stdout",
     "output_type": "stream",
     "text": [
      "313\n",
      "5\n"
     ]
    }
   ],
   "source": [
    "of = open(\"data/Argumentation_FA_edu_data.txt\", \"w\")\n",
    "for i, (sen, lb) in enumerate(zip(np.array(doc), input_data[:, label])):\n",
    "    sen_str = \"\".join([str(wd_to_id[wd]) + \" \" for wd in sen])\n",
    "    print_str = str(lb_to_id[lb]) + \" \" + str(lb_to_id[lb]) + \" \" + sen_str\n",
    "    print(print_str, file=of)\n",
    "of.close()\n",
    "\n",
    "of = open(\"data/Argumentation_FA_edu_data_pre.txt\", \"w\")\n",
    "for i, sen in enumerate(np.array(doc_pre)):\n",
    "    sen_str = \"\".join([str(wd_to_id[wd]) + \" \" for wd in sen])\n",
    "    print(sen_str, file=of)\n",
    "of.close()\n",
    "\n",
    "print(max([len(sen) for sen in doc]))\n",
    "\n",
    "print(KIND)"
   ]
  },
  {
   "cell_type": "code",
   "execution_count": null,
   "metadata": {},
   "outputs": [],
   "source": []
  },
  {
   "cell_type": "markdown",
   "metadata": {},
   "source": [
    "# train"
   ]
  },
  {
   "cell_type": "code",
   "execution_count": null,
   "metadata": {},
   "outputs": [],
   "source": []
  },
  {
   "cell_type": "code",
   "execution_count": null,
   "metadata": {},
   "outputs": [],
   "source": []
  },
  {
   "cell_type": "code",
   "execution_count": null,
   "metadata": {},
   "outputs": [],
   "source": []
  },
  {
   "cell_type": "code",
   "execution_count": null,
   "metadata": {},
   "outputs": [],
   "source": []
  },
  {
   "cell_type": "code",
   "execution_count": null,
   "metadata": {},
   "outputs": [],
   "source": []
  },
  {
   "cell_type": "code",
   "execution_count": null,
   "metadata": {},
   "outputs": [],
   "source": []
  },
  {
   "cell_type": "code",
   "execution_count": null,
   "metadata": {},
   "outputs": [],
   "source": []
  },
  {
   "cell_type": "code",
   "execution_count": null,
   "metadata": {},
   "outputs": [],
   "source": []
  },
  {
   "cell_type": "code",
   "execution_count": null,
   "metadata": {},
   "outputs": [],
   "source": []
  }
 ],
 "metadata": {
  "kernelspec": {
   "display_name": "python3",
   "language": "python",
   "name": "python3"
  },
  "language_info": {
   "codemirror_mode": {
    "name": "ipython",
    "version": 3
   },
   "file_extension": ".py",
   "mimetype": "text/x-python",
   "name": "python",
   "nbconvert_exporter": "python",
   "pygments_lexer": "ipython3",
   "version": "3.5.5"
  }
 },
 "nbformat": 4,
 "nbformat_minor": 2
}
